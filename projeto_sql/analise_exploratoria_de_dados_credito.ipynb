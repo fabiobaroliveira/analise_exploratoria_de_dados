{
  "cells": [
    {
      "cell_type": "markdown",
      "metadata": {
        "id": "view-in-github",
        "colab_type": "text"
      },
      "source": [
        "<a href=\"https://colab.research.google.com/github/fabiobaroliveira/analise_exploratoria_de_dados/blob/main/projeto_sql/analise_exploratoria_de_dados_credito.ipynb\" target=\"_parent\"><img src=\"https://colab.research.google.com/assets/colab-badge.svg\" alt=\"Open In Colab\"/></a>"
      ]
    },
    {
      "cell_type": "markdown",
      "id": "1db72264",
      "metadata": {
        "papermill": {
          "duration": 0.004968,
          "end_time": "2025-06-28T21:49:43.412906",
          "exception": false,
          "start_time": "2025-06-28T21:49:43.407938",
          "status": "completed"
        },
        "tags": [],
        "id": "1db72264"
      },
      "source": [
        "# Exploração e Análise de Dados de Crédito com SQL\n",
        "\n",
        "\n"
      ]
    },
    {
      "cell_type": "markdown",
      "source": [
        "## 1. Introdução\n",
        "\n",
        "Este notebook apresenta um projeto de análise e exploração de dados, simulando uma situação no mundo real.\n",
        "\n"
      ],
      "metadata": {
        "id": "QOz3W4qH7s6P"
      },
      "id": "QOz3W4qH7s6P"
    },
    {
      "cell_type": "markdown",
      "source": [
        "### 1.1.Problema\n",
        "Um analista de negócios e dados em um banco no interior do Brasil, após a última reunião para informou que foi constado uma queda na receita de 23% YoY no último trimestre.\n",
        "\n",
        "Após uma análise mais detalhada se observou que o produto Cartão de Crédito era o que apresentava maior percentual de queda."
      ],
      "metadata": {
        "id": "PP__pKZp8Osw"
      },
      "id": "PP__pKZp8Osw"
    },
    {
      "cell_type": "markdown",
      "source": [
        "## 2. Coleta de Dados\n",
        "\n",
        "O dataset utilizado é uma amostra do arquivo original \"[credito.csv](https://github.com/andre-marcos-perez/ebac-course-utils/tree/main/dataset)\" e com ele foi criado uma tabela no AWS Athena junto com o S3 Bucket.\n",
        "\n",
        "Foi extraído da base de dados de cadastro as seguintes informações dos clientes:\n",
        "\n",
        "\n",
        "* idade = idade do cliente\n",
        "\n",
        "* sexo = sexo do cliente (F ou M)\n",
        "\n",
        "* dependentes = número de dependentes do cliente\n",
        "\n",
        "* escolaridade = nível de escolaridade dos clientes\n",
        "\n",
        "* salario_anual = faixa salarial do cliente\n",
        "\n",
        "* tipo_cartao = tipo de cartão do cliente\n",
        "\n",
        "* qtd_produtos = quantidade de produtos comprados nos últimos 12 meses\n",
        "\n",
        "* iteracoes_12m = quantidade de iterações/transações nos últimos 12 meses\n",
        "\n",
        "* meses_inativo_12m = quantidade de meses que o cliente ficou inativo\n",
        "\n",
        "* limite_credito = limite de crédito do cliente\n",
        "\n",
        "* valor_transacoes_12m = valor das transações dos últimos 12 meses\n",
        "\n",
        "* qtd_transacoes_12m = quantidade de transações dos últimos 12 meses\n",
        "\n",
        "\n",
        "\n",
        "\n"
      ],
      "metadata": {
        "id": "oNFAobIY8d-X"
      },
      "id": "oNFAobIY8d-X"
    },
    {
      "cell_type": "markdown",
      "id": "27acb53b",
      "metadata": {
        "papermill": {
          "duration": 0.003505,
          "end_time": "2025-06-28T21:49:43.420463",
          "exception": false,
          "start_time": "2025-06-28T21:49:43.416958",
          "status": "completed"
        },
        "tags": [],
        "id": "27acb53b"
      },
      "source": [
        "## 3. Análise Exploratória de Dados (EDA)"
      ]
    },
    {
      "cell_type": "markdown",
      "source": [
        "### 3.1. Exploração"
      ],
      "metadata": {
        "id": "8CxXdELGBr9k"
      },
      "id": "8CxXdELGBr9k"
    },
    {
      "cell_type": "markdown",
      "source": [
        "> Consultas utilizando o AWS Athena"
      ],
      "metadata": {
        "id": "26tevSlrER_r"
      },
      "id": "26tevSlrER_r"
    },
    {
      "cell_type": "markdown",
      "id": "b6a4e32b",
      "metadata": {
        "papermill": {
          "duration": 0.003689,
          "end_time": "2025-06-28T21:49:43.427883",
          "exception": false,
          "start_time": "2025-06-28T21:49:43.424194",
          "status": "completed"
        },
        "tags": [],
        "id": "b6a4e32b"
      },
      "source": [
        "**1)Verificar a quantidade de informações em nossa base**\n",
        "\n",
        "Query: SELECT count(*) FROM credito;\n",
        "\n",
        "> Resposta: 2564"
      ]
    },
    {
      "cell_type": "markdown",
      "id": "0264c3fa",
      "metadata": {
        "papermill": {
          "duration": 0.003435,
          "end_time": "2025-06-28T21:49:43.434931",
          "exception": false,
          "start_time": "2025-06-28T21:49:43.431496",
          "status": "completed"
        },
        "tags": [],
        "id": "0264c3fa"
      },
      "source": [
        "**2) Como são os dados**\n",
        "\n",
        "Query: SELECT * FROM credito LIMIT 10;\n",
        "\n",
        "![](https://github.com/fabiobaroliveira/analise_exploratoria_de_dados/blob/main/projeto_sql/query2.png?raw=true)\n",
        "\n",
        "> Inicialmente podemos notar que há informações nulas com o valor (na)"
      ]
    },
    {
      "cell_type": "markdown",
      "id": "58bb8b68",
      "metadata": {
        "papermill": {
          "duration": 0.003663,
          "end_time": "2025-06-28T21:49:43.442193",
          "exception": false,
          "start_time": "2025-06-28T21:49:43.438530",
          "status": "completed"
        },
        "tags": [],
        "id": "58bb8b68"
      },
      "source": [
        "**3) Verificando os tipos de cada dado**\n",
        "\n",
        "Query: DESCRIBE credito;\n",
        "\n",
        "![](https://github.com/fabiobaroliveira/analise_exploratoria_de_dados/blob/main/projeto_sql/query3.png?raw=true)\n",
        "\n"
      ]
    },
    {
      "cell_type": "markdown",
      "id": "aeafc85a",
      "metadata": {
        "papermill": {
          "duration": 0.00361,
          "end_time": "2025-06-28T21:49:43.449398",
          "exception": false,
          "start_time": "2025-06-28T21:49:43.445788",
          "status": "completed"
        },
        "tags": [],
        "id": "aeafc85a"
      },
      "source": [
        "**4) Verificando em quais colunas há valores nulos para tratarmos depois**\n",
        "\n",
        "    4.1) Verificando tipos de escolaridade distintas\n",
        "\n",
        "Query: SELECT DISTINCT escolaridade FROM credito;\n",
        "\n",
        "![](https://github.com/fabiobaroliveira/analise_exploratoria_de_dados/blob/main/projeto_sql/query4.png?raw=true)\n",
        "\n",
        "    4.2) Verificando tipos de estado civil distintos\n",
        "\n",
        "Query: SELECT DISTINCT estado_civil FROM credito;\n",
        "\n",
        "![](https://github.com/fabiobaroliveira/analise_exploratoria_de_dados/blob/main/projeto_sql/query4-2.png?raw=true)\n",
        "\n",
        "    4.3) Verificando salário anual distintos\n",
        "\n",
        "SELECT DISTINCT salario_anual FROM credito;\n",
        "\n",
        "![](https://github.com/fabiobaroliveira/analise_exploratoria_de_dados/blob/main/projeto_sql/query4-3.png?raw=true)\n",
        "\n",
        "    4.4) Verificando tipos de cartões distintos\n",
        "\n",
        "Query: SELECT DISTINCT tipo_cartao FROM credito;\n",
        "\n",
        "![](https://github.com/fabiobaroliveira/analise_exploratoria_de_dados/blob/main/projeto_sql/query4-4.png?raw=true)\n",
        "\n",
        "> Nessa coluna não será necessário tratar nulos (na)"
      ]
    },
    {
      "cell_type": "markdown",
      "id": "66f01763",
      "metadata": {
        "papermill": {
          "duration": 0.003462,
          "end_time": "2025-06-28T21:49:43.456445",
          "exception": false,
          "start_time": "2025-06-28T21:49:43.452983",
          "status": "completed"
        },
        "tags": [],
        "id": "66f01763"
      },
      "source": [
        "### 3.2 Análise\n"
      ]
    },
    {
      "cell_type": "markdown",
      "id": "fe06d610",
      "metadata": {
        "papermill": {
          "duration": 0.003405,
          "end_time": "2025-06-28T21:49:43.463446",
          "exception": false,
          "start_time": "2025-06-28T21:49:43.460041",
          "status": "completed"
        },
        "tags": [],
        "id": "fe06d610"
      },
      "source": [
        "#### Qual a proporção de clientes para cada faixa de renda?\n",
        "\n",
        "Query: SELECT COUNT(*) AS contagem, salario_anual FROM credito GROUP BY salario_anual ORDER BY contagem\n",
        "\n",
        "![](https://github.com/fabiobaroliveira/analise_exploratoria_de_dados/blob/main/projeto_sql/div-faixa-renda.png?raw=true)\n",
        "\n",
        "> Observamos que no banco de dados é informado não valor exato do salario anual, mas sim em faixas salariais\n",
        "\n",
        "![](https://github.com/fabiobaroliveira/analise_exploratoria_de_dados/blob/main/projeto_sql/div-faixa-renda-grafico.png?raw=true)\n",
        "\n",
        "> No gráfico percebemos que a maior faixa salarial é de \"menos que $40K\" represetando 27,34% dos clientes\n",
        "\n",
        "\n",
        "\n"
      ]
    },
    {
      "cell_type": "markdown",
      "id": "61818214",
      "metadata": {
        "papermill": {
          "duration": 0.003884,
          "end_time": "2025-06-28T21:49:43.470989",
          "exception": false,
          "start_time": "2025-06-28T21:49:43.467105",
          "status": "completed"
        },
        "tags": [],
        "id": "61818214"
      },
      "source": []
    },
    {
      "cell_type": "markdown",
      "id": "12fdf896",
      "metadata": {
        "papermill": {
          "duration": 0.003593,
          "end_time": "2025-06-28T21:49:43.478341",
          "exception": false,
          "start_time": "2025-06-28T21:49:43.474748",
          "status": "completed"
        },
        "tags": [],
        "id": "12fdf896"
      },
      "source": [
        "#### Qual a faixa salarial que tem o maior valor de transações?\n",
        "  \n",
        "\n",
        "Query: SELECT salario_anual, SUM(valor_transacoes_12m) AS total_transacoes, AVG(valor_transacoes_12m) AS media_transacoes, SUM(iteracoes_12m) AS contagem_iteracoes FROM credito WHERE salario_anual != 'na' GROUP BY salario_anual\n",
        "\n",
        "![](https://github.com/fabiobaroliveira/analise_exploratoria_de_dados/blob/main/projeto_sql/salario-transacoes-total-med-cont.png?raw=true)\n",
        "\n",
        "  > Os clientes da faixa salarial de \"menos de $40K\" representam  aproximadamente 38% do volume em transações\n",
        "\n"
      ]
    },
    {
      "cell_type": "markdown",
      "id": "3c990ab6",
      "metadata": {
        "papermill": {
          "duration": 0.00341,
          "end_time": "2025-06-28T21:49:43.492216",
          "exception": false,
          "start_time": "2025-06-28T21:49:43.488806",
          "status": "completed"
        },
        "tags": [],
        "id": "3c990ab6"
      },
      "source": [
        "####  O tipo do cartão e o limite de crédito podem influenciar a média de gastos?\n",
        "  \n",
        "\n",
        "Query: SELECT tipo_cartao, COUNT(*) AS n_clientes, AVG(limite_credito) AS media_limite, AVG(valor_transacoes_12m) AS media_transacoes, SUM(iteracoes_12m) AS n_iteracoes FROM credito WHERE salario_anual != 'na' GROUP BY tipo_cartao ORDER BY media_transacoes DESC\n",
        "\n",
        "![](https://github.com/fabiobaroliveira/analise_exploratoria_de_dados/blob/main/projeto_sql/cartao-medlimite-medtransacoes.png?raw=true)\n",
        "\n",
        "> A resposta é sim, nota-se grande disparedade na quantidade de clientes com cartão blue, e em relação ao cartão silver há uma pequena diferença na média de valor nas transações, mas o limite é 3x maior em relação a média dos clientes com cartão blue."
      ]
    },
    {
      "cell_type": "markdown",
      "id": "c03f4a7c",
      "metadata": {
        "papermill": {
          "duration": 0.00344,
          "end_time": "2025-06-28T21:49:43.506488",
          "exception": false,
          "start_time": "2025-06-28T21:49:43.503048",
          "status": "completed"
        },
        "tags": [],
        "id": "c03f4a7c"
      },
      "source": [
        "#### Observação\n",
        "\n",
        "> Pode-se concluir que uma estratégia para aumentar a receita do banco seria promover um upgrade de cartão para os clientes mais qualificados para um cartão silver\n",
        "\n",
        "\n",
        "> Quais seriam os clientes com cartão blue mais qualificados ? Em uma análise anterior identificamos que o valor médios das transações por faixa salarial é maior em clientes  que ganham \"menos de $40k\" se compararmos com os valores de faixas salarias maiores.\n"
      ]
    },
    {
      "cell_type": "markdown",
      "id": "192ac0af",
      "metadata": {
        "papermill": {
          "duration": 0.003736,
          "end_time": "2025-06-28T21:49:43.520906",
          "exception": false,
          "start_time": "2025-06-28T21:49:43.517170",
          "status": "completed"
        },
        "tags": [],
        "id": "192ac0af"
      },
      "source": [
        "#### Analisando mais o perfil do cliente com cartão blue\n",
        "\n",
        "Query: SELECT salario_anual, COUNT(*) AS n_clientes, SUM(iteracoes_12m) AS n_transacoes, AVG(valor_transacoes_12m) AS valor_medio_transacoes, MAX (limite_credito) AS limite_credito_max, MIN(limite_credito) AS limite_credito_min FROM credito WHERE tipo_cartao = 'blue' AND salario_anual != 'na' GROUP BY salario_anual\n",
        "\n",
        "![](https://github.com/fabiobaroliveira/analise_exploratoria_de_dados/blob/main/projeto_sql/clientes-cart%C3%A3o-blue.png?raw=true)\n",
        "\n",
        "> Mesmo com um limite menor, clientes da faixa salarial \"menos que $40K\" ainda possuem a média de valor gasto acima do que outras faixas.\n",
        "\n",
        "\n"
      ]
    },
    {
      "cell_type": "markdown",
      "source": [
        "####  Filtrando listas de possiveis clientes para serem befenificados pelo upgrade de cartão\n",
        "\n",
        "Query: SELECT * FROM credito WHERE limite_credito > (SELECT AVG(limite_credito) FROM credito)  AND iteracoes_12m > (SELECT AVG(iteracoes_12m) FROM credito)  AND tipo_cartao = 'blue';\n"
      ],
      "metadata": {
        "id": "BDKpAT5TALWw"
      },
      "id": "BDKpAT5TALWw"
    },
    {
      "cell_type": "markdown",
      "source": [
        "\n",
        "\n",
        "![](https://github.com/fabiobaroliveira/analise_exploratoria_de_dados/blob/main/projeto_sql/upgrade_clientes_silver.png?raw=true)\n",
        "\n",
        "> Teríamos uma lista de 380 clientes que poderiam ser beneficiados com um upgrade para o cartão silver, esse clientes estariam mais qualificados devido a já terem um limite e numeros de transacoes acima da média.\n"
      ],
      "metadata": {
        "id": "4PI2Q6y4ADPv"
      },
      "id": "4PI2Q6y4ADPv"
    },
    {
      "cell_type": "markdown",
      "id": "e08e55b3",
      "metadata": {
        "papermill": {
          "duration": 0.00365,
          "end_time": "2025-06-28T21:49:43.536573",
          "exception": false,
          "start_time": "2025-06-28T21:49:43.532923",
          "status": "completed"
        },
        "tags": [],
        "id": "e08e55b3"
      },
      "source": [
        "## 4. Conclusão\n",
        "\n",
        "* A maior faixa salarial é representado pelos clientes que tem salarial anual \"menos que 40k\", cerca de 27,3%.\n",
        "* Aproximadamente 38% das transações é realizada pela mesma faixa salarial citada anteriormente.\n",
        "* Foi observado que 86,9% dos clientes do banco possui o cartão blue.\n",
        "* Em comparação os clientes com cartão blue têm valores médios de gastos proxímos aos dos clientes com cartão silver.\n",
        "* Uma solução para a queda de receita seria oferecer um upgrade de cartão para clientes do cartão blue para cartão silver que possuem valor de transações igual ou maior a clientes desse cartão.\n",
        "\n"
      ]
    }
  ],
  "metadata": {
    "kaggle": {
      "accelerator": "none",
      "dataSources": [],
      "isGpuEnabled": false,
      "isInternetEnabled": true,
      "language": "python",
      "sourceType": "notebook"
    },
    "kernelspec": {
      "display_name": "Python 3",
      "language": "python",
      "name": "python3"
    },
    "language_info": {
      "codemirror_mode": {
        "name": "ipython",
        "version": 3
      },
      "file_extension": ".py",
      "mimetype": "text/x-python",
      "name": "python",
      "nbconvert_exporter": "python",
      "pygments_lexer": "ipython3",
      "version": "3.11.11"
    },
    "papermill": {
      "default_parameters": {},
      "duration": 4.173351,
      "end_time": "2025-06-28T21:49:43.867369",
      "environment_variables": {},
      "exception": null,
      "input_path": "__notebook__.ipynb",
      "output_path": "__notebook__.ipynb",
      "parameters": {},
      "start_time": "2025-06-28T21:49:39.694018",
      "version": "2.6.0"
    },
    "colab": {
      "provenance": [],
      "toc_visible": true,
      "include_colab_link": true
    }
  },
  "nbformat": 4,
  "nbformat_minor": 5
}