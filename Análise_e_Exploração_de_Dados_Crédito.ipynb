{
  "metadata": {
    "kernelspec": {
      "language": "python",
      "display_name": "Python 3",
      "name": "python3"
    },
    "language_info": {
      "pygments_lexer": "ipython3",
      "nbconvert_exporter": "python",
      "version": "3.6.4",
      "file_extension": ".py",
      "codemirror_mode": {
        "name": "ipython",
        "version": 3
      },
      "name": "python",
      "mimetype": "text/x-python"
    },
    "kaggle": {
      "accelerator": "none",
      "dataSources": [],
      "isInternetEnabled": true,
      "language": "python",
      "sourceType": "notebook",
      "isGpuEnabled": false
    },
    "colab": {
      "provenance": [],
      "include_colab_link": true
    }
  },
  "nbformat_minor": 0,
  "nbformat": 4,
  "cells": [
    {
      "cell_type": "markdown",
      "metadata": {
        "id": "view-in-github",
        "colab_type": "text"
      },
      "source": [
        "<a href=\"https://colab.research.google.com/github/fabiobaroliveira/analise_exploratoria_de_dados/blob/main/An%C3%A1lise_e_Explora%C3%A7%C3%A3o_de_Dados_Cr%C3%A9dito.ipynb\" target=\"_parent\"><img src=\"https://colab.research.google.com/assets/colab-badge.svg\" alt=\"Open In Colab\"/></a>"
      ]
    },
    {
      "cell_type": "markdown",
      "source": [
        "# Exploração e análise de dados de crédito com SQL\n",
        "\n",
        "Sou analista de negócios e dados em um banco no interior do Brasil, após a última reunião para informar o desempenho foi constado uma queda na receita de 23% YoY no último trimestre.\n",
        "\n",
        "Após uma análise mais detalhada se observou que o produto Cartão de Crédito era o que apresentava maior queda de receita.\n",
        "Foi extraído da base de dados de cadastro uma amostra com as seguintes informações dos clientes:\n",
        "\n",
        "* idade = idade do cliente\n",
        "\n",
        "* sexo = sexo do cliente (F ou M)\n",
        "\n",
        "* dependentes = número de dependentes do cliente\n",
        "\n",
        "* escolaridade = nível de escolaridade dos clientes\n",
        "\n",
        "* salario_anual = faixa salarial do cliente\n",
        "\n",
        "* tipo_cartao = tipo de cartão do cliente\n",
        "\n",
        "* qtd_produtos = quantidade de produtos comprados nos últimos 12 meses\n",
        "\n",
        "* iteracoes_12m = quantidade de iterações/transações nos últimos 12 meses\n",
        "\n",
        "* meses_inativo_12m = quantidade de meses que o cliente ficou inativo\n",
        "\n",
        "* limite_credito = limite de crédito do cliente\n",
        "\n",
        "* valor_transacoes_12m = valor das transações dos últimos 12 meses\n",
        "\n",
        "* qtd_transacoes_12m = quantidade de transações dos últimos 12 meses\n",
        "\n",
        "\n",
        "\n",
        "\n",
        "A tabela foi criada no AWS Athena junto com o S3 Bucket com dados disponibilizados em: https://github.com/andre-marcos-perez/ebac-course-utils/tree/main/dataset\n"
      ],
      "metadata": {
        "id": "wOtOqK_hh7S9"
      }
    },
    {
      "cell_type": "markdown",
      "source": [
        "# Exploração de dados:"
      ],
      "metadata": {
        "id": "vUE_AZ-Eh7TA"
      }
    },
    {
      "cell_type": "markdown",
      "source": [
        "**1) Verificar a quantidade de informações em nossa base**\n",
        "\n",
        "Query: SELECT count(*) FROM credito;\n",
        "\n",
        "> Resposta: 2564"
      ],
      "metadata": {
        "id": "QdV3Juk2h7TA"
      }
    },
    {
      "cell_type": "markdown",
      "source": [
        "**2) Como são os dados**\n",
        "\n",
        "Query: SELECT * FROM credito LIMIT 10;\n",
        "\n",
        "![](https://github.com/fabiobaroliveira/analise_exploratoria_de_dados/blob/main/projeto_sql/query2.png?raw=true)\n",
        "\n",
        "> Inicialmente podemos notar que há informações nulas com o valor (na)"
      ],
      "metadata": {
        "id": "ZlpP6I0Wh7TB"
      }
    },
    {
      "cell_type": "markdown",
      "source": [
        "**3) Verificando os tipos de cada dado**\n",
        "\n",
        "Query: DESCRIBE credito;\n",
        "\n",
        "![](https://github.com/fabiobaroliveira/analise_exploratoria_de_dados/blob/main/projeto_sql/query3.png?raw=true)\n",
        "\n"
      ],
      "metadata": {
        "id": "NWA4YMIRh7TB"
      }
    },
    {
      "cell_type": "markdown",
      "source": [
        "**4) Verificando em quais colunas há valores nulos para tratarmos depois**\n",
        "\n",
        "    4.1) Verificando tipos de escolaridade distintas\n",
        "\n",
        "Query: SELECT DISTINCT escolaridade FROM credito;\n",
        "\n",
        "![](https://github.com/fabiobaroliveira/analise_exploratoria_de_dados/blob/main/projeto_sql/query4.png?raw=true)\n",
        "\n",
        "    4.2) Verificando tipos de estado civil distintos\n",
        "\n",
        "Query: SELECT DISTINCT estado_civil FROM credito;\n",
        "\n",
        "![](https://github.com/fabiobaroliveira/analise_exploratoria_de_dados/blob/main/projeto_sql/query4-2.png?raw=true)\n",
        "\n",
        "    4.3) Verificando salário anual distintos\n",
        "\n",
        "SELECT DISTINCT salario_anual FROM credito;\n",
        "\n",
        "![](https://github.com/fabiobaroliveira/analise_exploratoria_de_dados/blob/main/projeto_sql/query4-3.png?raw=true)\n",
        "\n",
        "    4.4) Verificando tipos de cartões distintos\n",
        "\n",
        "Query: SELECT DISTINCT tipo_cartao FROM credito;\n",
        "\n",
        "![](https://github.com/fabiobaroliveira/analise_exploratoria_de_dados/blob/main/projeto_sql/query4-4.png?raw=true)\n",
        "\n",
        "> Nessa coluna não será necessário tratar nulos (na)"
      ],
      "metadata": {
        "id": "JwraJnyXh7TD"
      }
    },
    {
      "cell_type": "markdown",
      "source": [
        "# Análise de dados\n",
        "\n",
        "### Ciente dos tipos de dados que temos, vamos começar a analisar e fazer perguntas sobre o perfil dos nossos clientes."
      ],
      "metadata": {
        "id": "Cj5LeMbAh7TE"
      }
    },
    {
      "cell_type": "markdown",
      "source": [
        "* ## Qual a proporção de clientes para cada faixa de renda?\n",
        "\n",
        "Query: SELECT COUNT(*) AS contagem, salario_anual FROM credito GROUP BY salario_anual ORDER BY contagem\n",
        "\n",
        "![](https://github.com/fabiobaroliveira/analise_exploratoria_de_dados/blob/main/projeto_sql/div-faixa-renda.png?raw=true)\n",
        "\n",
        "> Observamos que no banco de dados é informado não valor exato do salario anual, mas sim em faixas salariais\n",
        "\n",
        "![](https://github.com/fabiobaroliveira/analise_exploratoria_de_dados/blob/main/projeto_sql/div-faixa-renda-grafico.png?raw=true)\n",
        "\n",
        "> No gráfico percebemos que a maior faixa salarial é de \"menos que $40K\" represetando 27,34% dos clientes\n",
        "\n",
        "\n",
        "\n"
      ],
      "metadata": {
        "id": "RZCNQ37gh7TE"
      }
    },
    {
      "cell_type": "markdown",
      "source": [
        "* ## Qual a faixa salarial que tem o maior valor de transações?\n",
        "  \n",
        "\n",
        "Query: SELECT salario_anual, SUM(valor_transacoes_12m) AS total_transacoes, AVG(valor_transacoes_12m) AS media_transacoes, SUM(iteracoes_12m) AS contagem_iteracoes FROM credito WHERE salario_anual != 'na' GROUP BY salario_anual\n",
        "\n",
        "![](https://github.com/fabiobaroliveira/analise_exploratoria_de_dados/blob/main/projeto_sql/salario-transacoes-total-med-cont.png?raw=true)\n",
        "\n",
        "  > Os clientes da faixa salarial de \"menos de $40K\" representam  aproximadamente 38% do volume em transações\n",
        "\n"
      ],
      "metadata": {
        "id": "d0hc7DGoh7TF"
      }
    },
    {
      "cell_type": "markdown",
      "source": [
        "* ##  O tipo do cartão e o limite de crédito podem influenciar a média de gastos?\n",
        "  \n",
        "\n",
        "Query: SELECT tipo_cartao, COUNT(*) AS n_clientes, AVG(limite_credito) AS media_limite, AVG(valor_transacoes_12m) AS media_transacoes, SUM(iteracoes_12m) AS n_iteracoes FROM credito WHERE salario_anual != 'na' GROUP BY tipo_cartao ORDER BY media_transacoes DESC\n",
        "\n",
        "![](https://github.com/fabiobaroliveira/analise_exploratoria_de_dados/blob/main/projeto_sql/cartao-medlimite-medtransacoes.png?raw=true)\n",
        "\n",
        "> A resposta é sim, nota-se grande disparedade na quantidade de clientes com cartão blue, e em relação ao cartão silver há uma pequena diferença na média de valor nas transações, mas o limite é 3x maior em relação a média dos clientes com cartão blue."
      ],
      "metadata": {
        "id": "6cBOuUlPh7TG"
      }
    },
    {
      "cell_type": "markdown",
      "source": [
        "## Pode-se concluir que uma estratégia para aumentar a receita do banco seria promover um upgrade de cartão para os clientes mais qualificados para um cartão silver\n",
        "\n",
        "\n",
        "> Quais seriam os clientes com cartão blue mais qualificados ? Em uma análise anterior identificamos que o valor médios das transações por faixa salarial é maior em clientes  que ganham \"menos de $40k\" se compararmos com os valores de faixas salarias maiores.\n"
      ],
      "metadata": {
        "id": "7esYUs_lh7TG"
      }
    },
    {
      "cell_type": "markdown",
      "source": [
        "\n",
        "\n",
        "\n",
        "* ## Analisando mais o perfil do cliente com cartão blue\n",
        "\n",
        "Query: SELECT salario_anual, COUNT(*) AS n_clientes, SUM(iteracoes_12m) AS n_transacoes, AVG(valor_transacoes_12m) AS valor_medio_transacoes, MAX (limite_credito) AS limite_credito_max, MIN(limite_credito) AS limite_credito_min FROM credito WHERE tipo_cartao = 'blue' AND salario_anual != 'na' GROUP BY salario_anual\n",
        "\n",
        "![](https://github.com/fabiobaroliveira/analise_exploratoria_de_dados/blob/main/projeto_sql/clientes-cart%C3%A3o-blue.png?raw=true)\n",
        "\n",
        "> Mesmo com um limite menor, clientes da faixa salarial \"menos que $40K\" ainda possuem a média de valor gasto acima do que outras faixas.\n",
        "\n",
        "\n",
        "* ##  Filtrando listas de possiveis clientes para serem befenificados pelo upgrade de cartão\n",
        "\n",
        "Query: SELECT * FROM credito WHERE limite_credito > (SELECT AVG(limite_credito) FROM credito)  AND iteracoes_12m > (SELECT AVG(iteracoes_12m) FROM credito)  AND tipo_cartao = 'blue';\n",
        "\n",
        "![](https://github.com/fabiobaroliveira/analise_exploratoria_de_dados/blob/main/projeto_sql/upgrade_clientes_silver.png?raw=true)\n",
        "\n",
        "> Teríamos uma lista de 380 clientes que poderiam ser beneficiados com um upgrade para o cartão silver, esse clientes estariam mais qualificados devido a já terem um limite e numeros de transacoes acima da média.\n"
      ],
      "metadata": {
        "id": "NTL2_qLWh7TH"
      }
    },
    {
      "cell_type": "markdown",
      "source": [
        "# Conclusão\n",
        "\n",
        "* A maior faixa salarial é representado pelos clientes que tem salarial anual \"menos que 40k\", cerca de 27,3%.\n",
        "* Aproximadamente 38% das transações é realizada pela mesma faixa salarial citada anteriormente.\n",
        "* Foi observado que 86,9% dos clientes do banco possui o cartão blue.\n",
        "* Em comparação os clientes com cartão blue têm valores médios de gastos proxímos aos dos clientes com cartão silver.\n",
        "* Uma solução para a queda de receita seria oferecer um upgrade de cartão para clientes do cartão blue para cartão silver que possuem valor de transações igual ou maior a clientes desse cartão.\n",
        "\n"
      ],
      "metadata": {
        "id": "2OuIjsu9h7TI"
      }
    }
  ]
}