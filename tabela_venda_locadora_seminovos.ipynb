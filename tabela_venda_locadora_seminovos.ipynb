{
  "nbformat": 4,
  "nbformat_minor": 0,
  "metadata": {
    "colab": {
      "provenance": [],
      "authorship_tag": "ABX9TyM2Atv0Torl4VkrkDDlunNU",
      "include_colab_link": true
    },
    "kernelspec": {
      "name": "python3",
      "display_name": "Python 3"
    },
    "language_info": {
      "name": "python"
    }
  },
  "cells": [
    {
      "cell_type": "markdown",
      "metadata": {
        "id": "view-in-github",
        "colab_type": "text"
      },
      "source": [
        "<a href=\"https://colab.research.google.com/github/fabiobaroliveira/analises/blob/main/tabela_venda_locadora_seminovos.ipynb\" target=\"_parent\"><img src=\"https://colab.research.google.com/assets/colab-badge.svg\" alt=\"Open In Colab\"/></a>"
      ]
    },
    {
      "cell_type": "code",
      "source": [
        "! pip install Faker"
      ],
      "metadata": {
        "id": "H5KNERGjdUOi",
        "outputId": "48a7257b-7e21-4a31-a17e-28e82596f9cd",
        "colab": {
          "base_uri": "https://localhost:8080/"
        }
      },
      "execution_count": 1,
      "outputs": [
        {
          "output_type": "stream",
          "name": "stdout",
          "text": [
            "Collecting Faker\n",
            "  Downloading Faker-36.1.1-py3-none-any.whl.metadata (15 kB)\n",
            "Requirement already satisfied: tzdata in /usr/local/lib/python3.11/dist-packages (from Faker) (2025.1)\n",
            "Downloading Faker-36.1.1-py3-none-any.whl (1.9 MB)\n",
            "\u001b[?25l   \u001b[90m━━━━━━━━━━━━━━━━━━━━━━━━━━━━━━━━━━━━━━━━\u001b[0m \u001b[32m0.0/1.9 MB\u001b[0m \u001b[31m?\u001b[0m eta \u001b[36m-:--:--\u001b[0m\r\u001b[2K   \u001b[91m━━━━\u001b[0m\u001b[90m╺\u001b[0m\u001b[90m━━━━━━━━━━━━━━━━━━━━━━━━━━━━━━━━━━━\u001b[0m \u001b[32m0.2/1.9 MB\u001b[0m \u001b[31m5.6 MB/s\u001b[0m eta \u001b[36m0:00:01\u001b[0m\r\u001b[2K   \u001b[91m━━━━━━━━━━━━━━━━━━━━━━━━━━━━━━━━━\u001b[0m\u001b[91m╸\u001b[0m\u001b[90m━━━━━━\u001b[0m \u001b[32m1.6/1.9 MB\u001b[0m \u001b[31m23.3 MB/s\u001b[0m eta \u001b[36m0:00:01\u001b[0m\r\u001b[2K   \u001b[90m━━━━━━━━━━━━━━━━━━━━━━━━━━━━━━━━━━━━━━━━\u001b[0m \u001b[32m1.9/1.9 MB\u001b[0m \u001b[31m19.1 MB/s\u001b[0m eta \u001b[36m0:00:00\u001b[0m\n",
            "\u001b[?25hInstalling collected packages: Faker\n",
            "Successfully installed Faker-36.1.1\n"
          ]
        }
      ]
    },
    {
      "cell_type": "code",
      "execution_count": 7,
      "metadata": {
        "colab": {
          "base_uri": "https://localhost:8080/"
        },
        "id": "m8F_IMAKW-Pw",
        "outputId": "b1710c61-c734-4a3b-8f3e-e3fa574fe255"
      },
      "outputs": [
        {
          "output_type": "stream",
          "name": "stdout",
          "text": [
            "   ID       Nome Completo  Idade             CPF       Sexo  \\\n",
            "0   1       Eduardo Sousa     66  347.812.659-28  Masculino   \n",
            "1   2     José Pedro Melo     45  832.910.754-04  Masculino   \n",
            "2   3  Luiz Felipe Macedo     64  058.463.791-84  Masculino   \n",
            "3   4       Luiza da Cruz     36  480.635.217-90   Feminino   \n",
            "4   5      Stephany Alves     40  078.362.519-77   Feminino   \n",
            "\n",
            "                           E-mail             Telefone              Cidade  \\\n",
            "0     ninavasconcelos@example.com  +55 (051) 6908 8282        Lopes Grande   \n",
            "1            calebe13@example.net      (021) 8446 3429              Fogaça   \n",
            "2           amonteiro@example.net         71 1450 9512      Souza do Oeste   \n",
            "3     murilogoncalves@example.com  +55 (021) 7809 5597        Dias da Mata   \n",
            "4  casa-grandeisabela@example.org      (031) 4940-3505  Cavalcante da Mata   \n",
            "\n",
            "  Estado       Marca      Modelo  Ano_fabricacao       Cor  Valor_venda  \\\n",
            "0     SE  Volkswagen      Virtus            2019     Cinza    178724.53   \n",
            "1     ES          GM  Onix Sedan            2020     Prata    160418.89   \n",
            "2     MT        Fiat        Argo            2016     Preto     42949.11   \n",
            "3     SP  Volkswagen        Polo            2016  Vermelho    157268.26   \n",
            "4     AL  Volkswagen        Polo            2017     Preto    112875.43   \n",
            "\n",
            "   Data_venda Forma_pagamento  \n",
            "0  2024-09-08         À vista  \n",
            "1  2024-10-09         À vista  \n",
            "2  2023-03-21         À vista  \n",
            "3  2024-05-10   Financiamento  \n",
            "4  2023-11-28   Financiamento  \n"
          ]
        }
      ],
      "source": [
        "import pandas as pd\n",
        "import random\n",
        "from faker import Faker\n",
        "fake = Faker('pt_BR')\n",
        "\n",
        "# Listas de valores possíveis\n",
        "\n",
        "marcas_modelos = {\n",
        "    \"Fiat\" : [ \"Mobi\",\"Argo\", \"Cronos\"],\n",
        "    \"Volkswagen\" : [ \"Polo\", \"Virtus\"],\n",
        "    \"Hyundai\" : [\"HB20\", \"HB20S\"],\n",
        "    \"GM\" : [\"Onix\", \"Onix Sedan\"]\n",
        "}\n",
        "\n",
        "# Pesos para cada marca\n",
        "\n",
        "pesos_marcas = [ 35, 30, 20, 15] # dividido em  porcentagem, ficando Fiat com 35%, VW com 30% e assim por diante\n",
        "\n",
        "# Tipos de pagamento e pesos\n",
        "\n",
        "formas_pagamento = [\"À vista\", \"Financiamento\", \"Consórcio\", \"Leasing\"]\n",
        "pesos_formas_pagamento = [20, 60, 15, 5]\n",
        "\n",
        "# Cores e pesos\n",
        "\n",
        "cores = [\"Preto\", \"Prata\", \"Branco\", \"Cinza\", \"Vermelho\", \"Azul\"]\n",
        "pesos_cores = [ 20, 30, 15, 15, 5, 5]\n",
        "\n",
        "# sexo e pesos\n",
        "\n",
        "sexo_opcoes = [\"Masculino\", \"Feminino\"]\n",
        "pesos_sexo = [42, 58]\n",
        "\n",
        "# Gerando os dados fictícios\n",
        "\n",
        "dados = []\n",
        "\n",
        "for i in range(1, 10951):\n",
        "    sexo = random.choices(sexo_opcoes, weights=pesos_sexo, k=1)[0]\n",
        "    nome = fake.first_name_male() if sexo == \"Masculino\" else fake.first_name_female()\n",
        "    sobrenome = fake.last_name()\n",
        "    nome_completo = f\"{nome} {sobrenome}\"\n",
        "    idade = random.randint(18, 70)\n",
        "    cpf = fake.cpf()\n",
        "    email = fake.email()\n",
        "    telefone = fake.phone_number()\n",
        "    cidade = fake.city()\n",
        "    estado = fake.state_abbr()\n",
        "\n",
        "    # Escolha da marca com base nos pesos\n",
        "    marca = random.choices(list(marcas_modelos.keys()), weights=pesos_marcas, k=1)[0]\n",
        "    modelo = random.choice(marcas_modelos[marca])\n",
        "\n",
        "    ano_fabricacao = random.randint(2013, 2023)\n",
        "    cor = random.choices(cores, weights=pesos_cores, k=1)[0]\n",
        "    valor_venda = round(random.uniform(30000, 250000), 2)\n",
        "    data_venda = fake.date_between(start_date=\"-2y\", end_date=\"today\")\n",
        "    forma_pagamento = random.choices(formas_pagamento, weights=pesos_formas_pagamento, k=1)[0]\n",
        "\n",
        "    dados.append([\n",
        "        i, nome_completo, idade, cpf, sexo, email, telefone, cidade, estado,\n",
        "        marca, modelo, ano_fabricacao, cor, valor_venda, data_venda, forma_pagamento\n",
        "    ])\n",
        "\n",
        "# Criando o DataFrame\n",
        "colunas = [\"ID\", \"Nome Completo\", \"Idade\", \"CPF\", \"Sexo\", \"E-mail\",\n",
        "           \"Telefone\", \"Cidade\", \"Estado\", \"Marca\", \"Modelo\", \"Ano_fabricacao\",\n",
        "           \"Cor\", \"Valor_venda\", \"Data_venda\", \"Forma_pagamento\"]\n",
        "\n",
        "df_vendas = pd.DataFrame(dados, columns=colunas)\n",
        "\n",
        "# Exibindo as primeiras linhas do DataFrame\n",
        "print(df_vendas.head())"
      ]
    }
  ]
}