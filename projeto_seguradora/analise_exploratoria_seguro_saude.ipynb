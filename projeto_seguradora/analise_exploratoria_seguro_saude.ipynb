{
  "nbformat": 4,
  "nbformat_minor": 0,
  "metadata": {
    "colab": {
      "provenance": [],
      "authorship_tag": "ABX9TyMnFHJsfixparcKcKUGCZHT",
      "include_colab_link": true
    },
    "kernelspec": {
      "name": "python3",
      "display_name": "Python 3"
    },
    "language_info": {
      "name": "python"
    }
  },
  "cells": [
    {
      "cell_type": "markdown",
      "metadata": {
        "id": "view-in-github",
        "colab_type": "text"
      },
      "source": [
        "<a href=\"https://colab.research.google.com/github/fabiobaroliveira/analise_exploratoria_de_dados/blob/main/projeto_seguradora/analise_exploratoria_seguro_saude.ipynb\" target=\"_parent\"><img src=\"https://colab.research.google.com/assets/colab-badge.svg\" alt=\"Open In Colab\"/></a>"
      ]
    },
    {
      "cell_type": "markdown",
      "source": [
        "# Análise Exploratória de Dados - Seguro Saúde\n"
      ],
      "metadata": {
        "id": "nMVUGtOIlpFC"
      }
    },
    {
      "cell_type": "markdown",
      "source": [
        "# Tópicos\n",
        "\n",
        "1. Introdução e Preparação Inicial dos Dados\n",
        "2. Limpeza e Pré-processamento de Dados\n",
        "3. Análises\n",
        "4. Insights e Conclusões\n"
      ],
      "metadata": {
        "id": "4SozhuGsqkkU"
      }
    },
    {
      "cell_type": "markdown",
      "source": [
        "## 1. Introdução\n",
        "\n",
        "- Objetivo dessa análise é identificar padrões de tendências entre os segurados e sua relação com as depesas.\n",
        "\n",
        "- Os dados são de um dataset retirado do Kaggle, com o nome originalmente \"[US Health Insurance Dataset](https://www.kaggle.com/datasets/teertha/ushealthinsurancedataset/data)\" ele contém dados de segurados em um plano de saúde e algumas de suas características."
      ],
      "metadata": {
        "id": "1eMpm-NzqoAm"
      }
    },
    {
      "cell_type": "markdown",
      "source": [
        "## 2. Carregamento e Inspeção Inicial"
      ],
      "metadata": {
        "id": "_fhUWZEfqoqy"
      }
    },
    {
      "cell_type": "code",
      "source": [
        "# Importando bibliotecas necessárias\n",
        "import pandas as pd\n",
        "import kagglehub"
      ],
      "metadata": {
        "id": "locWze1LqukK"
      },
      "execution_count": null,
      "outputs": []
    },
    {
      "cell_type": "code",
      "source": [
        "# Download versão mais atual\n",
        "path = kagglehub.dataset_download(\"teertha/ushealthinsurancedataset\")\n",
        "print(\"Path to dataset files:\", path)"
      ],
      "metadata": {
        "colab": {
          "base_uri": "https://localhost:8080/"
        },
        "id": "nDeyS95Mqysc",
        "outputId": "3e18bafc-eb48-4db0-ac75-ad02cc1933a0"
      },
      "execution_count": null,
      "outputs": [
        {
          "output_type": "stream",
          "name": "stdout",
          "text": [
            "Downloading from https://www.kaggle.com/api/v1/datasets/download/teertha/ushealthinsurancedataset?dataset_version_number=1...\n"
          ]
        },
        {
          "output_type": "stream",
          "name": "stderr",
          "text": [
            "100%|██████████| 16.0k/16.0k [00:00<00:00, 18.3MB/s]"
          ]
        },
        {
          "output_type": "stream",
          "name": "stdout",
          "text": [
            "Extracting files...\n",
            "Path to dataset files: /root/.cache/kagglehub/datasets/teertha/ushealthinsurancedataset/versions/1\n"
          ]
        },
        {
          "output_type": "stream",
          "name": "stderr",
          "text": [
            "\n"
          ]
        }
      ]
    },
    {
      "cell_type": "code",
      "source": [
        "# Carrega arquivo baixado\n",
        "file_path = '/kaggle/input/ushealthinsurancedataset/insurance.csv'\n",
        "df = pd.read_csv(file_path)"
      ],
      "metadata": {
        "id": "leZG9FXQq1P7"
      },
      "execution_count": null,
      "outputs": []
    },
    {
      "cell_type": "code",
      "source": [
        "# Carrega arquivo baixado\n",
        "file_path = '/root/.cache/kagglehub/datasets/teertha/ushealthinsurancedataset/versions/1/insurance.csv'\n",
        "df = pd.read_csv(file_path)"
      ],
      "metadata": {
        "id": "EZbKPBcavKXA"
      },
      "execution_count": null,
      "outputs": []
    },
    {
      "cell_type": "code",
      "source": [
        "#Verificando as primeiras linhas\n",
        "df.head()"
      ],
      "metadata": {
        "colab": {
          "base_uri": "https://localhost:8080/",
          "height": 206
        },
        "id": "UFS-FsKuq3uk",
        "outputId": "9134053b-14a7-4176-a94e-84c23513aece"
      },
      "execution_count": null,
      "outputs": [
        {
          "output_type": "execute_result",
          "data": {
            "text/plain": [
              "   age     sex     bmi  children smoker     region      charges\n",
              "0   19  female  27.900         0    yes  southwest  16884.92400\n",
              "1   18    male  33.770         1     no  southeast   1725.55230\n",
              "2   28    male  33.000         3     no  southeast   4449.46200\n",
              "3   33    male  22.705         0     no  northwest  21984.47061\n",
              "4   32    male  28.880         0     no  northwest   3866.85520"
            ],
            "text/html": [
              "\n",
              "  <div id=\"df-38d09f42-2221-471a-887a-1d2d4fbbec7b\" class=\"colab-df-container\">\n",
              "    <div>\n",
              "<style scoped>\n",
              "    .dataframe tbody tr th:only-of-type {\n",
              "        vertical-align: middle;\n",
              "    }\n",
              "\n",
              "    .dataframe tbody tr th {\n",
              "        vertical-align: top;\n",
              "    }\n",
              "\n",
              "    .dataframe thead th {\n",
              "        text-align: right;\n",
              "    }\n",
              "</style>\n",
              "<table border=\"1\" class=\"dataframe\">\n",
              "  <thead>\n",
              "    <tr style=\"text-align: right;\">\n",
              "      <th></th>\n",
              "      <th>age</th>\n",
              "      <th>sex</th>\n",
              "      <th>bmi</th>\n",
              "      <th>children</th>\n",
              "      <th>smoker</th>\n",
              "      <th>region</th>\n",
              "      <th>charges</th>\n",
              "    </tr>\n",
              "  </thead>\n",
              "  <tbody>\n",
              "    <tr>\n",
              "      <th>0</th>\n",
              "      <td>19</td>\n",
              "      <td>female</td>\n",
              "      <td>27.900</td>\n",
              "      <td>0</td>\n",
              "      <td>yes</td>\n",
              "      <td>southwest</td>\n",
              "      <td>16884.92400</td>\n",
              "    </tr>\n",
              "    <tr>\n",
              "      <th>1</th>\n",
              "      <td>18</td>\n",
              "      <td>male</td>\n",
              "      <td>33.770</td>\n",
              "      <td>1</td>\n",
              "      <td>no</td>\n",
              "      <td>southeast</td>\n",
              "      <td>1725.55230</td>\n",
              "    </tr>\n",
              "    <tr>\n",
              "      <th>2</th>\n",
              "      <td>28</td>\n",
              "      <td>male</td>\n",
              "      <td>33.000</td>\n",
              "      <td>3</td>\n",
              "      <td>no</td>\n",
              "      <td>southeast</td>\n",
              "      <td>4449.46200</td>\n",
              "    </tr>\n",
              "    <tr>\n",
              "      <th>3</th>\n",
              "      <td>33</td>\n",
              "      <td>male</td>\n",
              "      <td>22.705</td>\n",
              "      <td>0</td>\n",
              "      <td>no</td>\n",
              "      <td>northwest</td>\n",
              "      <td>21984.47061</td>\n",
              "    </tr>\n",
              "    <tr>\n",
              "      <th>4</th>\n",
              "      <td>32</td>\n",
              "      <td>male</td>\n",
              "      <td>28.880</td>\n",
              "      <td>0</td>\n",
              "      <td>no</td>\n",
              "      <td>northwest</td>\n",
              "      <td>3866.85520</td>\n",
              "    </tr>\n",
              "  </tbody>\n",
              "</table>\n",
              "</div>\n",
              "    <div class=\"colab-df-buttons\">\n",
              "\n",
              "  <div class=\"colab-df-container\">\n",
              "    <button class=\"colab-df-convert\" onclick=\"convertToInteractive('df-38d09f42-2221-471a-887a-1d2d4fbbec7b')\"\n",
              "            title=\"Convert this dataframe to an interactive table.\"\n",
              "            style=\"display:none;\">\n",
              "\n",
              "  <svg xmlns=\"http://www.w3.org/2000/svg\" height=\"24px\" viewBox=\"0 -960 960 960\">\n",
              "    <path d=\"M120-120v-720h720v720H120Zm60-500h600v-160H180v160Zm220 220h160v-160H400v160Zm0 220h160v-160H400v160ZM180-400h160v-160H180v160Zm440 0h160v-160H620v160ZM180-180h160v-160H180v160Zm440 0h160v-160H620v160Z\"/>\n",
              "  </svg>\n",
              "    </button>\n",
              "\n",
              "  <style>\n",
              "    .colab-df-container {\n",
              "      display:flex;\n",
              "      gap: 12px;\n",
              "    }\n",
              "\n",
              "    .colab-df-convert {\n",
              "      background-color: #E8F0FE;\n",
              "      border: none;\n",
              "      border-radius: 50%;\n",
              "      cursor: pointer;\n",
              "      display: none;\n",
              "      fill: #1967D2;\n",
              "      height: 32px;\n",
              "      padding: 0 0 0 0;\n",
              "      width: 32px;\n",
              "    }\n",
              "\n",
              "    .colab-df-convert:hover {\n",
              "      background-color: #E2EBFA;\n",
              "      box-shadow: 0px 1px 2px rgba(60, 64, 67, 0.3), 0px 1px 3px 1px rgba(60, 64, 67, 0.15);\n",
              "      fill: #174EA6;\n",
              "    }\n",
              "\n",
              "    .colab-df-buttons div {\n",
              "      margin-bottom: 4px;\n",
              "    }\n",
              "\n",
              "    [theme=dark] .colab-df-convert {\n",
              "      background-color: #3B4455;\n",
              "      fill: #D2E3FC;\n",
              "    }\n",
              "\n",
              "    [theme=dark] .colab-df-convert:hover {\n",
              "      background-color: #434B5C;\n",
              "      box-shadow: 0px 1px 3px 1px rgba(0, 0, 0, 0.15);\n",
              "      filter: drop-shadow(0px 1px 2px rgba(0, 0, 0, 0.3));\n",
              "      fill: #FFFFFF;\n",
              "    }\n",
              "  </style>\n",
              "\n",
              "    <script>\n",
              "      const buttonEl =\n",
              "        document.querySelector('#df-38d09f42-2221-471a-887a-1d2d4fbbec7b button.colab-df-convert');\n",
              "      buttonEl.style.display =\n",
              "        google.colab.kernel.accessAllowed ? 'block' : 'none';\n",
              "\n",
              "      async function convertToInteractive(key) {\n",
              "        const element = document.querySelector('#df-38d09f42-2221-471a-887a-1d2d4fbbec7b');\n",
              "        const dataTable =\n",
              "          await google.colab.kernel.invokeFunction('convertToInteractive',\n",
              "                                                    [key], {});\n",
              "        if (!dataTable) return;\n",
              "\n",
              "        const docLinkHtml = 'Like what you see? Visit the ' +\n",
              "          '<a target=\"_blank\" href=https://colab.research.google.com/notebooks/data_table.ipynb>data table notebook</a>'\n",
              "          + ' to learn more about interactive tables.';\n",
              "        element.innerHTML = '';\n",
              "        dataTable['output_type'] = 'display_data';\n",
              "        await google.colab.output.renderOutput(dataTable, element);\n",
              "        const docLink = document.createElement('div');\n",
              "        docLink.innerHTML = docLinkHtml;\n",
              "        element.appendChild(docLink);\n",
              "      }\n",
              "    </script>\n",
              "  </div>\n",
              "\n",
              "\n",
              "    <div id=\"df-cf4c1e3c-c120-4c18-9b8b-17a3cd46406a\">\n",
              "      <button class=\"colab-df-quickchart\" onclick=\"quickchart('df-cf4c1e3c-c120-4c18-9b8b-17a3cd46406a')\"\n",
              "                title=\"Suggest charts\"\n",
              "                style=\"display:none;\">\n",
              "\n",
              "<svg xmlns=\"http://www.w3.org/2000/svg\" height=\"24px\"viewBox=\"0 0 24 24\"\n",
              "     width=\"24px\">\n",
              "    <g>\n",
              "        <path d=\"M19 3H5c-1.1 0-2 .9-2 2v14c0 1.1.9 2 2 2h14c1.1 0 2-.9 2-2V5c0-1.1-.9-2-2-2zM9 17H7v-7h2v7zm4 0h-2V7h2v10zm4 0h-2v-4h2v4z\"/>\n",
              "    </g>\n",
              "</svg>\n",
              "      </button>\n",
              "\n",
              "<style>\n",
              "  .colab-df-quickchart {\n",
              "      --bg-color: #E8F0FE;\n",
              "      --fill-color: #1967D2;\n",
              "      --hover-bg-color: #E2EBFA;\n",
              "      --hover-fill-color: #174EA6;\n",
              "      --disabled-fill-color: #AAA;\n",
              "      --disabled-bg-color: #DDD;\n",
              "  }\n",
              "\n",
              "  [theme=dark] .colab-df-quickchart {\n",
              "      --bg-color: #3B4455;\n",
              "      --fill-color: #D2E3FC;\n",
              "      --hover-bg-color: #434B5C;\n",
              "      --hover-fill-color: #FFFFFF;\n",
              "      --disabled-bg-color: #3B4455;\n",
              "      --disabled-fill-color: #666;\n",
              "  }\n",
              "\n",
              "  .colab-df-quickchart {\n",
              "    background-color: var(--bg-color);\n",
              "    border: none;\n",
              "    border-radius: 50%;\n",
              "    cursor: pointer;\n",
              "    display: none;\n",
              "    fill: var(--fill-color);\n",
              "    height: 32px;\n",
              "    padding: 0;\n",
              "    width: 32px;\n",
              "  }\n",
              "\n",
              "  .colab-df-quickchart:hover {\n",
              "    background-color: var(--hover-bg-color);\n",
              "    box-shadow: 0 1px 2px rgba(60, 64, 67, 0.3), 0 1px 3px 1px rgba(60, 64, 67, 0.15);\n",
              "    fill: var(--button-hover-fill-color);\n",
              "  }\n",
              "\n",
              "  .colab-df-quickchart-complete:disabled,\n",
              "  .colab-df-quickchart-complete:disabled:hover {\n",
              "    background-color: var(--disabled-bg-color);\n",
              "    fill: var(--disabled-fill-color);\n",
              "    box-shadow: none;\n",
              "  }\n",
              "\n",
              "  .colab-df-spinner {\n",
              "    border: 2px solid var(--fill-color);\n",
              "    border-color: transparent;\n",
              "    border-bottom-color: var(--fill-color);\n",
              "    animation:\n",
              "      spin 1s steps(1) infinite;\n",
              "  }\n",
              "\n",
              "  @keyframes spin {\n",
              "    0% {\n",
              "      border-color: transparent;\n",
              "      border-bottom-color: var(--fill-color);\n",
              "      border-left-color: var(--fill-color);\n",
              "    }\n",
              "    20% {\n",
              "      border-color: transparent;\n",
              "      border-left-color: var(--fill-color);\n",
              "      border-top-color: var(--fill-color);\n",
              "    }\n",
              "    30% {\n",
              "      border-color: transparent;\n",
              "      border-left-color: var(--fill-color);\n",
              "      border-top-color: var(--fill-color);\n",
              "      border-right-color: var(--fill-color);\n",
              "    }\n",
              "    40% {\n",
              "      border-color: transparent;\n",
              "      border-right-color: var(--fill-color);\n",
              "      border-top-color: var(--fill-color);\n",
              "    }\n",
              "    60% {\n",
              "      border-color: transparent;\n",
              "      border-right-color: var(--fill-color);\n",
              "    }\n",
              "    80% {\n",
              "      border-color: transparent;\n",
              "      border-right-color: var(--fill-color);\n",
              "      border-bottom-color: var(--fill-color);\n",
              "    }\n",
              "    90% {\n",
              "      border-color: transparent;\n",
              "      border-bottom-color: var(--fill-color);\n",
              "    }\n",
              "  }\n",
              "</style>\n",
              "\n",
              "      <script>\n",
              "        async function quickchart(key) {\n",
              "          const quickchartButtonEl =\n",
              "            document.querySelector('#' + key + ' button');\n",
              "          quickchartButtonEl.disabled = true;  // To prevent multiple clicks.\n",
              "          quickchartButtonEl.classList.add('colab-df-spinner');\n",
              "          try {\n",
              "            const charts = await google.colab.kernel.invokeFunction(\n",
              "                'suggestCharts', [key], {});\n",
              "          } catch (error) {\n",
              "            console.error('Error during call to suggestCharts:', error);\n",
              "          }\n",
              "          quickchartButtonEl.classList.remove('colab-df-spinner');\n",
              "          quickchartButtonEl.classList.add('colab-df-quickchart-complete');\n",
              "        }\n",
              "        (() => {\n",
              "          let quickchartButtonEl =\n",
              "            document.querySelector('#df-cf4c1e3c-c120-4c18-9b8b-17a3cd46406a button');\n",
              "          quickchartButtonEl.style.display =\n",
              "            google.colab.kernel.accessAllowed ? 'block' : 'none';\n",
              "        })();\n",
              "      </script>\n",
              "    </div>\n",
              "\n",
              "    </div>\n",
              "  </div>\n"
            ],
            "application/vnd.google.colaboratory.intrinsic+json": {
              "type": "dataframe",
              "variable_name": "df",
              "summary": "{\n  \"name\": \"df\",\n  \"rows\": 1338,\n  \"fields\": [\n    {\n      \"column\": \"age\",\n      \"properties\": {\n        \"dtype\": \"number\",\n        \"std\": 14,\n        \"min\": 18,\n        \"max\": 64,\n        \"num_unique_values\": 47,\n        \"samples\": [\n          21,\n          45,\n          36\n        ],\n        \"semantic_type\": \"\",\n        \"description\": \"\"\n      }\n    },\n    {\n      \"column\": \"sex\",\n      \"properties\": {\n        \"dtype\": \"category\",\n        \"num_unique_values\": 2,\n        \"samples\": [\n          \"male\",\n          \"female\"\n        ],\n        \"semantic_type\": \"\",\n        \"description\": \"\"\n      }\n    },\n    {\n      \"column\": \"bmi\",\n      \"properties\": {\n        \"dtype\": \"number\",\n        \"std\": 6.098186911679017,\n        \"min\": 15.96,\n        \"max\": 53.13,\n        \"num_unique_values\": 548,\n        \"samples\": [\n          23.18,\n          26.885\n        ],\n        \"semantic_type\": \"\",\n        \"description\": \"\"\n      }\n    },\n    {\n      \"column\": \"children\",\n      \"properties\": {\n        \"dtype\": \"number\",\n        \"std\": 1,\n        \"min\": 0,\n        \"max\": 5,\n        \"num_unique_values\": 6,\n        \"samples\": [\n          0,\n          1\n        ],\n        \"semantic_type\": \"\",\n        \"description\": \"\"\n      }\n    },\n    {\n      \"column\": \"smoker\",\n      \"properties\": {\n        \"dtype\": \"category\",\n        \"num_unique_values\": 2,\n        \"samples\": [\n          \"no\",\n          \"yes\"\n        ],\n        \"semantic_type\": \"\",\n        \"description\": \"\"\n      }\n    },\n    {\n      \"column\": \"region\",\n      \"properties\": {\n        \"dtype\": \"category\",\n        \"num_unique_values\": 4,\n        \"samples\": [\n          \"southeast\",\n          \"northeast\"\n        ],\n        \"semantic_type\": \"\",\n        \"description\": \"\"\n      }\n    },\n    {\n      \"column\": \"charges\",\n      \"properties\": {\n        \"dtype\": \"number\",\n        \"std\": 12110.011236693994,\n        \"min\": 1121.8739,\n        \"max\": 63770.42801,\n        \"num_unique_values\": 1337,\n        \"samples\": [\n          8688.85885,\n          5708.867\n        ],\n        \"semantic_type\": \"\",\n        \"description\": \"\"\n      }\n    }\n  ]\n}"
            }
          },
          "metadata": {},
          "execution_count": 5
        }
      ]
    },
    {
      "cell_type": "code",
      "source": [
        "#Verificando as últimas linhas\n",
        "df.tail()"
      ],
      "metadata": {
        "colab": {
          "base_uri": "https://localhost:8080/",
          "height": 206
        },
        "id": "NDNE5rauq-3h",
        "outputId": "ed5d017c-5c78-46fc-f033-73fab9034142"
      },
      "execution_count": null,
      "outputs": [
        {
          "output_type": "execute_result",
          "data": {
            "text/plain": [
              "      age     sex    bmi  children smoker     region     charges\n",
              "1333   50    male  30.97         3     no  northwest  10600.5483\n",
              "1334   18  female  31.92         0     no  northeast   2205.9808\n",
              "1335   18  female  36.85         0     no  southeast   1629.8335\n",
              "1336   21  female  25.80         0     no  southwest   2007.9450\n",
              "1337   61  female  29.07         0    yes  northwest  29141.3603"
            ],
            "text/html": [
              "\n",
              "  <div id=\"df-c67a4f70-5a78-4186-8c80-dc3d85c9609d\" class=\"colab-df-container\">\n",
              "    <div>\n",
              "<style scoped>\n",
              "    .dataframe tbody tr th:only-of-type {\n",
              "        vertical-align: middle;\n",
              "    }\n",
              "\n",
              "    .dataframe tbody tr th {\n",
              "        vertical-align: top;\n",
              "    }\n",
              "\n",
              "    .dataframe thead th {\n",
              "        text-align: right;\n",
              "    }\n",
              "</style>\n",
              "<table border=\"1\" class=\"dataframe\">\n",
              "  <thead>\n",
              "    <tr style=\"text-align: right;\">\n",
              "      <th></th>\n",
              "      <th>age</th>\n",
              "      <th>sex</th>\n",
              "      <th>bmi</th>\n",
              "      <th>children</th>\n",
              "      <th>smoker</th>\n",
              "      <th>region</th>\n",
              "      <th>charges</th>\n",
              "    </tr>\n",
              "  </thead>\n",
              "  <tbody>\n",
              "    <tr>\n",
              "      <th>1333</th>\n",
              "      <td>50</td>\n",
              "      <td>male</td>\n",
              "      <td>30.97</td>\n",
              "      <td>3</td>\n",
              "      <td>no</td>\n",
              "      <td>northwest</td>\n",
              "      <td>10600.5483</td>\n",
              "    </tr>\n",
              "    <tr>\n",
              "      <th>1334</th>\n",
              "      <td>18</td>\n",
              "      <td>female</td>\n",
              "      <td>31.92</td>\n",
              "      <td>0</td>\n",
              "      <td>no</td>\n",
              "      <td>northeast</td>\n",
              "      <td>2205.9808</td>\n",
              "    </tr>\n",
              "    <tr>\n",
              "      <th>1335</th>\n",
              "      <td>18</td>\n",
              "      <td>female</td>\n",
              "      <td>36.85</td>\n",
              "      <td>0</td>\n",
              "      <td>no</td>\n",
              "      <td>southeast</td>\n",
              "      <td>1629.8335</td>\n",
              "    </tr>\n",
              "    <tr>\n",
              "      <th>1336</th>\n",
              "      <td>21</td>\n",
              "      <td>female</td>\n",
              "      <td>25.80</td>\n",
              "      <td>0</td>\n",
              "      <td>no</td>\n",
              "      <td>southwest</td>\n",
              "      <td>2007.9450</td>\n",
              "    </tr>\n",
              "    <tr>\n",
              "      <th>1337</th>\n",
              "      <td>61</td>\n",
              "      <td>female</td>\n",
              "      <td>29.07</td>\n",
              "      <td>0</td>\n",
              "      <td>yes</td>\n",
              "      <td>northwest</td>\n",
              "      <td>29141.3603</td>\n",
              "    </tr>\n",
              "  </tbody>\n",
              "</table>\n",
              "</div>\n",
              "    <div class=\"colab-df-buttons\">\n",
              "\n",
              "  <div class=\"colab-df-container\">\n",
              "    <button class=\"colab-df-convert\" onclick=\"convertToInteractive('df-c67a4f70-5a78-4186-8c80-dc3d85c9609d')\"\n",
              "            title=\"Convert this dataframe to an interactive table.\"\n",
              "            style=\"display:none;\">\n",
              "\n",
              "  <svg xmlns=\"http://www.w3.org/2000/svg\" height=\"24px\" viewBox=\"0 -960 960 960\">\n",
              "    <path d=\"M120-120v-720h720v720H120Zm60-500h600v-160H180v160Zm220 220h160v-160H400v160Zm0 220h160v-160H400v160ZM180-400h160v-160H180v160Zm440 0h160v-160H620v160ZM180-180h160v-160H180v160Zm440 0h160v-160H620v160Z\"/>\n",
              "  </svg>\n",
              "    </button>\n",
              "\n",
              "  <style>\n",
              "    .colab-df-container {\n",
              "      display:flex;\n",
              "      gap: 12px;\n",
              "    }\n",
              "\n",
              "    .colab-df-convert {\n",
              "      background-color: #E8F0FE;\n",
              "      border: none;\n",
              "      border-radius: 50%;\n",
              "      cursor: pointer;\n",
              "      display: none;\n",
              "      fill: #1967D2;\n",
              "      height: 32px;\n",
              "      padding: 0 0 0 0;\n",
              "      width: 32px;\n",
              "    }\n",
              "\n",
              "    .colab-df-convert:hover {\n",
              "      background-color: #E2EBFA;\n",
              "      box-shadow: 0px 1px 2px rgba(60, 64, 67, 0.3), 0px 1px 3px 1px rgba(60, 64, 67, 0.15);\n",
              "      fill: #174EA6;\n",
              "    }\n",
              "\n",
              "    .colab-df-buttons div {\n",
              "      margin-bottom: 4px;\n",
              "    }\n",
              "\n",
              "    [theme=dark] .colab-df-convert {\n",
              "      background-color: #3B4455;\n",
              "      fill: #D2E3FC;\n",
              "    }\n",
              "\n",
              "    [theme=dark] .colab-df-convert:hover {\n",
              "      background-color: #434B5C;\n",
              "      box-shadow: 0px 1px 3px 1px rgba(0, 0, 0, 0.15);\n",
              "      filter: drop-shadow(0px 1px 2px rgba(0, 0, 0, 0.3));\n",
              "      fill: #FFFFFF;\n",
              "    }\n",
              "  </style>\n",
              "\n",
              "    <script>\n",
              "      const buttonEl =\n",
              "        document.querySelector('#df-c67a4f70-5a78-4186-8c80-dc3d85c9609d button.colab-df-convert');\n",
              "      buttonEl.style.display =\n",
              "        google.colab.kernel.accessAllowed ? 'block' : 'none';\n",
              "\n",
              "      async function convertToInteractive(key) {\n",
              "        const element = document.querySelector('#df-c67a4f70-5a78-4186-8c80-dc3d85c9609d');\n",
              "        const dataTable =\n",
              "          await google.colab.kernel.invokeFunction('convertToInteractive',\n",
              "                                                    [key], {});\n",
              "        if (!dataTable) return;\n",
              "\n",
              "        const docLinkHtml = 'Like what you see? Visit the ' +\n",
              "          '<a target=\"_blank\" href=https://colab.research.google.com/notebooks/data_table.ipynb>data table notebook</a>'\n",
              "          + ' to learn more about interactive tables.';\n",
              "        element.innerHTML = '';\n",
              "        dataTable['output_type'] = 'display_data';\n",
              "        await google.colab.output.renderOutput(dataTable, element);\n",
              "        const docLink = document.createElement('div');\n",
              "        docLink.innerHTML = docLinkHtml;\n",
              "        element.appendChild(docLink);\n",
              "      }\n",
              "    </script>\n",
              "  </div>\n",
              "\n",
              "\n",
              "    <div id=\"df-543623f7-3d4b-4cda-a337-835d41d90906\">\n",
              "      <button class=\"colab-df-quickchart\" onclick=\"quickchart('df-543623f7-3d4b-4cda-a337-835d41d90906')\"\n",
              "                title=\"Suggest charts\"\n",
              "                style=\"display:none;\">\n",
              "\n",
              "<svg xmlns=\"http://www.w3.org/2000/svg\" height=\"24px\"viewBox=\"0 0 24 24\"\n",
              "     width=\"24px\">\n",
              "    <g>\n",
              "        <path d=\"M19 3H5c-1.1 0-2 .9-2 2v14c0 1.1.9 2 2 2h14c1.1 0 2-.9 2-2V5c0-1.1-.9-2-2-2zM9 17H7v-7h2v7zm4 0h-2V7h2v10zm4 0h-2v-4h2v4z\"/>\n",
              "    </g>\n",
              "</svg>\n",
              "      </button>\n",
              "\n",
              "<style>\n",
              "  .colab-df-quickchart {\n",
              "      --bg-color: #E8F0FE;\n",
              "      --fill-color: #1967D2;\n",
              "      --hover-bg-color: #E2EBFA;\n",
              "      --hover-fill-color: #174EA6;\n",
              "      --disabled-fill-color: #AAA;\n",
              "      --disabled-bg-color: #DDD;\n",
              "  }\n",
              "\n",
              "  [theme=dark] .colab-df-quickchart {\n",
              "      --bg-color: #3B4455;\n",
              "      --fill-color: #D2E3FC;\n",
              "      --hover-bg-color: #434B5C;\n",
              "      --hover-fill-color: #FFFFFF;\n",
              "      --disabled-bg-color: #3B4455;\n",
              "      --disabled-fill-color: #666;\n",
              "  }\n",
              "\n",
              "  .colab-df-quickchart {\n",
              "    background-color: var(--bg-color);\n",
              "    border: none;\n",
              "    border-radius: 50%;\n",
              "    cursor: pointer;\n",
              "    display: none;\n",
              "    fill: var(--fill-color);\n",
              "    height: 32px;\n",
              "    padding: 0;\n",
              "    width: 32px;\n",
              "  }\n",
              "\n",
              "  .colab-df-quickchart:hover {\n",
              "    background-color: var(--hover-bg-color);\n",
              "    box-shadow: 0 1px 2px rgba(60, 64, 67, 0.3), 0 1px 3px 1px rgba(60, 64, 67, 0.15);\n",
              "    fill: var(--button-hover-fill-color);\n",
              "  }\n",
              "\n",
              "  .colab-df-quickchart-complete:disabled,\n",
              "  .colab-df-quickchart-complete:disabled:hover {\n",
              "    background-color: var(--disabled-bg-color);\n",
              "    fill: var(--disabled-fill-color);\n",
              "    box-shadow: none;\n",
              "  }\n",
              "\n",
              "  .colab-df-spinner {\n",
              "    border: 2px solid var(--fill-color);\n",
              "    border-color: transparent;\n",
              "    border-bottom-color: var(--fill-color);\n",
              "    animation:\n",
              "      spin 1s steps(1) infinite;\n",
              "  }\n",
              "\n",
              "  @keyframes spin {\n",
              "    0% {\n",
              "      border-color: transparent;\n",
              "      border-bottom-color: var(--fill-color);\n",
              "      border-left-color: var(--fill-color);\n",
              "    }\n",
              "    20% {\n",
              "      border-color: transparent;\n",
              "      border-left-color: var(--fill-color);\n",
              "      border-top-color: var(--fill-color);\n",
              "    }\n",
              "    30% {\n",
              "      border-color: transparent;\n",
              "      border-left-color: var(--fill-color);\n",
              "      border-top-color: var(--fill-color);\n",
              "      border-right-color: var(--fill-color);\n",
              "    }\n",
              "    40% {\n",
              "      border-color: transparent;\n",
              "      border-right-color: var(--fill-color);\n",
              "      border-top-color: var(--fill-color);\n",
              "    }\n",
              "    60% {\n",
              "      border-color: transparent;\n",
              "      border-right-color: var(--fill-color);\n",
              "    }\n",
              "    80% {\n",
              "      border-color: transparent;\n",
              "      border-right-color: var(--fill-color);\n",
              "      border-bottom-color: var(--fill-color);\n",
              "    }\n",
              "    90% {\n",
              "      border-color: transparent;\n",
              "      border-bottom-color: var(--fill-color);\n",
              "    }\n",
              "  }\n",
              "</style>\n",
              "\n",
              "      <script>\n",
              "        async function quickchart(key) {\n",
              "          const quickchartButtonEl =\n",
              "            document.querySelector('#' + key + ' button');\n",
              "          quickchartButtonEl.disabled = true;  // To prevent multiple clicks.\n",
              "          quickchartButtonEl.classList.add('colab-df-spinner');\n",
              "          try {\n",
              "            const charts = await google.colab.kernel.invokeFunction(\n",
              "                'suggestCharts', [key], {});\n",
              "          } catch (error) {\n",
              "            console.error('Error during call to suggestCharts:', error);\n",
              "          }\n",
              "          quickchartButtonEl.classList.remove('colab-df-spinner');\n",
              "          quickchartButtonEl.classList.add('colab-df-quickchart-complete');\n",
              "        }\n",
              "        (() => {\n",
              "          let quickchartButtonEl =\n",
              "            document.querySelector('#df-543623f7-3d4b-4cda-a337-835d41d90906 button');\n",
              "          quickchartButtonEl.style.display =\n",
              "            google.colab.kernel.accessAllowed ? 'block' : 'none';\n",
              "        })();\n",
              "      </script>\n",
              "    </div>\n",
              "\n",
              "    </div>\n",
              "  </div>\n"
            ],
            "application/vnd.google.colaboratory.intrinsic+json": {
              "type": "dataframe",
              "summary": "{\n  \"name\": \"df\",\n  \"rows\": 5,\n  \"fields\": [\n    {\n      \"column\": \"age\",\n      \"properties\": {\n        \"dtype\": \"number\",\n        \"std\": 20,\n        \"min\": 18,\n        \"max\": 61,\n        \"num_unique_values\": 4,\n        \"samples\": [\n          18,\n          61,\n          50\n        ],\n        \"semantic_type\": \"\",\n        \"description\": \"\"\n      }\n    },\n    {\n      \"column\": \"sex\",\n      \"properties\": {\n        \"dtype\": \"category\",\n        \"num_unique_values\": 2,\n        \"samples\": [\n          \"female\",\n          \"male\"\n        ],\n        \"semantic_type\": \"\",\n        \"description\": \"\"\n      }\n    },\n    {\n      \"column\": \"bmi\",\n      \"properties\": {\n        \"dtype\": \"number\",\n        \"std\": 4.055991863897165,\n        \"min\": 25.8,\n        \"max\": 36.85,\n        \"num_unique_values\": 5,\n        \"samples\": [\n          31.92,\n          29.07\n        ],\n        \"semantic_type\": \"\",\n        \"description\": \"\"\n      }\n    },\n    {\n      \"column\": \"children\",\n      \"properties\": {\n        \"dtype\": \"number\",\n        \"std\": 1,\n        \"min\": 0,\n        \"max\": 3,\n        \"num_unique_values\": 2,\n        \"samples\": [\n          0,\n          3\n        ],\n        \"semantic_type\": \"\",\n        \"description\": \"\"\n      }\n    },\n    {\n      \"column\": \"smoker\",\n      \"properties\": {\n        \"dtype\": \"category\",\n        \"num_unique_values\": 2,\n        \"samples\": [\n          \"yes\",\n          \"no\"\n        ],\n        \"semantic_type\": \"\",\n        \"description\": \"\"\n      }\n    },\n    {\n      \"column\": \"region\",\n      \"properties\": {\n        \"dtype\": \"string\",\n        \"num_unique_values\": 4,\n        \"samples\": [\n          \"northeast\",\n          \"southwest\"\n        ],\n        \"semantic_type\": \"\",\n        \"description\": \"\"\n      }\n    },\n    {\n      \"column\": \"charges\",\n      \"properties\": {\n        \"dtype\": \"number\",\n        \"std\": 11806.083521514944,\n        \"min\": 1629.8335,\n        \"max\": 29141.3603,\n        \"num_unique_values\": 5,\n        \"samples\": [\n          2205.9808,\n          29141.3603\n        ],\n        \"semantic_type\": \"\",\n        \"description\": \"\"\n      }\n    }\n  ]\n}"
            }
          },
          "metadata": {},
          "execution_count": 6
        }
      ]
    },
    {
      "cell_type": "code",
      "source": [
        "#Verificando informações do dataframe\n",
        "df.info()"
      ],
      "metadata": {
        "colab": {
          "base_uri": "https://localhost:8080/"
        },
        "id": "h3ngnD1IrFQr",
        "outputId": "d2db6e82-de8f-49ef-d3db-02c202fbab9a"
      },
      "execution_count": null,
      "outputs": [
        {
          "output_type": "stream",
          "name": "stdout",
          "text": [
            "<class 'pandas.core.frame.DataFrame'>\n",
            "RangeIndex: 1338 entries, 0 to 1337\n",
            "Data columns (total 7 columns):\n",
            " #   Column    Non-Null Count  Dtype  \n",
            "---  ------    --------------  -----  \n",
            " 0   age       1338 non-null   int64  \n",
            " 1   sex       1338 non-null   object \n",
            " 2   bmi       1338 non-null   float64\n",
            " 3   children  1338 non-null   int64  \n",
            " 4   smoker    1338 non-null   object \n",
            " 5   region    1338 non-null   object \n",
            " 6   charges   1338 non-null   float64\n",
            "dtypes: float64(2), int64(2), object(3)\n",
            "memory usage: 73.3+ KB\n"
          ]
        }
      ]
    },
    {
      "cell_type": "code",
      "source": [
        "# Confirmando que não dados nulos\n",
        "\n",
        "nulos = df.isnull().sum()\n",
        "print(nulos)"
      ],
      "metadata": {
        "colab": {
          "base_uri": "https://localhost:8080/"
        },
        "id": "1q4dpV9LCpT2",
        "outputId": "92f9cba3-86ba-4471-dfd4-6745ab8eba22"
      },
      "execution_count": 104,
      "outputs": [
        {
          "output_type": "stream",
          "name": "stdout",
          "text": [
            "age         0\n",
            "sex         0\n",
            "bmi         0\n",
            "children    0\n",
            "smoker      0\n",
            "region      0\n",
            "charges     0\n",
            "dtype: int64\n"
          ]
        }
      ]
    },
    {
      "cell_type": "code",
      "source": [
        "# Estastisticas categoricas\n",
        "df.describe()"
      ],
      "metadata": {
        "colab": {
          "base_uri": "https://localhost:8080/",
          "height": 300
        },
        "id": "Gvb6czLorIe9",
        "outputId": "4e5f951d-3c21-4c89-fc28-f4deee314a1d"
      },
      "execution_count": null,
      "outputs": [
        {
          "output_type": "execute_result",
          "data": {
            "text/plain": [
              "               age          bmi     children       charges\n",
              "count  1338.000000  1338.000000  1338.000000   1338.000000\n",
              "mean     39.207025    30.663397     1.094918  13270.422265\n",
              "std      14.049960     6.098187     1.205493  12110.011237\n",
              "min      18.000000    15.960000     0.000000   1121.873900\n",
              "25%      27.000000    26.296250     0.000000   4740.287150\n",
              "50%      39.000000    30.400000     1.000000   9382.033000\n",
              "75%      51.000000    34.693750     2.000000  16639.912515\n",
              "max      64.000000    53.130000     5.000000  63770.428010"
            ],
            "text/html": [
              "\n",
              "  <div id=\"df-4f604dd4-61b5-4000-8533-3633b5e9d3fc\" class=\"colab-df-container\">\n",
              "    <div>\n",
              "<style scoped>\n",
              "    .dataframe tbody tr th:only-of-type {\n",
              "        vertical-align: middle;\n",
              "    }\n",
              "\n",
              "    .dataframe tbody tr th {\n",
              "        vertical-align: top;\n",
              "    }\n",
              "\n",
              "    .dataframe thead th {\n",
              "        text-align: right;\n",
              "    }\n",
              "</style>\n",
              "<table border=\"1\" class=\"dataframe\">\n",
              "  <thead>\n",
              "    <tr style=\"text-align: right;\">\n",
              "      <th></th>\n",
              "      <th>age</th>\n",
              "      <th>bmi</th>\n",
              "      <th>children</th>\n",
              "      <th>charges</th>\n",
              "    </tr>\n",
              "  </thead>\n",
              "  <tbody>\n",
              "    <tr>\n",
              "      <th>count</th>\n",
              "      <td>1338.000000</td>\n",
              "      <td>1338.000000</td>\n",
              "      <td>1338.000000</td>\n",
              "      <td>1338.000000</td>\n",
              "    </tr>\n",
              "    <tr>\n",
              "      <th>mean</th>\n",
              "      <td>39.207025</td>\n",
              "      <td>30.663397</td>\n",
              "      <td>1.094918</td>\n",
              "      <td>13270.422265</td>\n",
              "    </tr>\n",
              "    <tr>\n",
              "      <th>std</th>\n",
              "      <td>14.049960</td>\n",
              "      <td>6.098187</td>\n",
              "      <td>1.205493</td>\n",
              "      <td>12110.011237</td>\n",
              "    </tr>\n",
              "    <tr>\n",
              "      <th>min</th>\n",
              "      <td>18.000000</td>\n",
              "      <td>15.960000</td>\n",
              "      <td>0.000000</td>\n",
              "      <td>1121.873900</td>\n",
              "    </tr>\n",
              "    <tr>\n",
              "      <th>25%</th>\n",
              "      <td>27.000000</td>\n",
              "      <td>26.296250</td>\n",
              "      <td>0.000000</td>\n",
              "      <td>4740.287150</td>\n",
              "    </tr>\n",
              "    <tr>\n",
              "      <th>50%</th>\n",
              "      <td>39.000000</td>\n",
              "      <td>30.400000</td>\n",
              "      <td>1.000000</td>\n",
              "      <td>9382.033000</td>\n",
              "    </tr>\n",
              "    <tr>\n",
              "      <th>75%</th>\n",
              "      <td>51.000000</td>\n",
              "      <td>34.693750</td>\n",
              "      <td>2.000000</td>\n",
              "      <td>16639.912515</td>\n",
              "    </tr>\n",
              "    <tr>\n",
              "      <th>max</th>\n",
              "      <td>64.000000</td>\n",
              "      <td>53.130000</td>\n",
              "      <td>5.000000</td>\n",
              "      <td>63770.428010</td>\n",
              "    </tr>\n",
              "  </tbody>\n",
              "</table>\n",
              "</div>\n",
              "    <div class=\"colab-df-buttons\">\n",
              "\n",
              "  <div class=\"colab-df-container\">\n",
              "    <button class=\"colab-df-convert\" onclick=\"convertToInteractive('df-4f604dd4-61b5-4000-8533-3633b5e9d3fc')\"\n",
              "            title=\"Convert this dataframe to an interactive table.\"\n",
              "            style=\"display:none;\">\n",
              "\n",
              "  <svg xmlns=\"http://www.w3.org/2000/svg\" height=\"24px\" viewBox=\"0 -960 960 960\">\n",
              "    <path d=\"M120-120v-720h720v720H120Zm60-500h600v-160H180v160Zm220 220h160v-160H400v160Zm0 220h160v-160H400v160ZM180-400h160v-160H180v160Zm440 0h160v-160H620v160ZM180-180h160v-160H180v160Zm440 0h160v-160H620v160Z\"/>\n",
              "  </svg>\n",
              "    </button>\n",
              "\n",
              "  <style>\n",
              "    .colab-df-container {\n",
              "      display:flex;\n",
              "      gap: 12px;\n",
              "    }\n",
              "\n",
              "    .colab-df-convert {\n",
              "      background-color: #E8F0FE;\n",
              "      border: none;\n",
              "      border-radius: 50%;\n",
              "      cursor: pointer;\n",
              "      display: none;\n",
              "      fill: #1967D2;\n",
              "      height: 32px;\n",
              "      padding: 0 0 0 0;\n",
              "      width: 32px;\n",
              "    }\n",
              "\n",
              "    .colab-df-convert:hover {\n",
              "      background-color: #E2EBFA;\n",
              "      box-shadow: 0px 1px 2px rgba(60, 64, 67, 0.3), 0px 1px 3px 1px rgba(60, 64, 67, 0.15);\n",
              "      fill: #174EA6;\n",
              "    }\n",
              "\n",
              "    .colab-df-buttons div {\n",
              "      margin-bottom: 4px;\n",
              "    }\n",
              "\n",
              "    [theme=dark] .colab-df-convert {\n",
              "      background-color: #3B4455;\n",
              "      fill: #D2E3FC;\n",
              "    }\n",
              "\n",
              "    [theme=dark] .colab-df-convert:hover {\n",
              "      background-color: #434B5C;\n",
              "      box-shadow: 0px 1px 3px 1px rgba(0, 0, 0, 0.15);\n",
              "      filter: drop-shadow(0px 1px 2px rgba(0, 0, 0, 0.3));\n",
              "      fill: #FFFFFF;\n",
              "    }\n",
              "  </style>\n",
              "\n",
              "    <script>\n",
              "      const buttonEl =\n",
              "        document.querySelector('#df-4f604dd4-61b5-4000-8533-3633b5e9d3fc button.colab-df-convert');\n",
              "      buttonEl.style.display =\n",
              "        google.colab.kernel.accessAllowed ? 'block' : 'none';\n",
              "\n",
              "      async function convertToInteractive(key) {\n",
              "        const element = document.querySelector('#df-4f604dd4-61b5-4000-8533-3633b5e9d3fc');\n",
              "        const dataTable =\n",
              "          await google.colab.kernel.invokeFunction('convertToInteractive',\n",
              "                                                    [key], {});\n",
              "        if (!dataTable) return;\n",
              "\n",
              "        const docLinkHtml = 'Like what you see? Visit the ' +\n",
              "          '<a target=\"_blank\" href=https://colab.research.google.com/notebooks/data_table.ipynb>data table notebook</a>'\n",
              "          + ' to learn more about interactive tables.';\n",
              "        element.innerHTML = '';\n",
              "        dataTable['output_type'] = 'display_data';\n",
              "        await google.colab.output.renderOutput(dataTable, element);\n",
              "        const docLink = document.createElement('div');\n",
              "        docLink.innerHTML = docLinkHtml;\n",
              "        element.appendChild(docLink);\n",
              "      }\n",
              "    </script>\n",
              "  </div>\n",
              "\n",
              "\n",
              "    <div id=\"df-d25cdbb6-d3b6-410e-8775-d24d22f9a0cb\">\n",
              "      <button class=\"colab-df-quickchart\" onclick=\"quickchart('df-d25cdbb6-d3b6-410e-8775-d24d22f9a0cb')\"\n",
              "                title=\"Suggest charts\"\n",
              "                style=\"display:none;\">\n",
              "\n",
              "<svg xmlns=\"http://www.w3.org/2000/svg\" height=\"24px\"viewBox=\"0 0 24 24\"\n",
              "     width=\"24px\">\n",
              "    <g>\n",
              "        <path d=\"M19 3H5c-1.1 0-2 .9-2 2v14c0 1.1.9 2 2 2h14c1.1 0 2-.9 2-2V5c0-1.1-.9-2-2-2zM9 17H7v-7h2v7zm4 0h-2V7h2v10zm4 0h-2v-4h2v4z\"/>\n",
              "    </g>\n",
              "</svg>\n",
              "      </button>\n",
              "\n",
              "<style>\n",
              "  .colab-df-quickchart {\n",
              "      --bg-color: #E8F0FE;\n",
              "      --fill-color: #1967D2;\n",
              "      --hover-bg-color: #E2EBFA;\n",
              "      --hover-fill-color: #174EA6;\n",
              "      --disabled-fill-color: #AAA;\n",
              "      --disabled-bg-color: #DDD;\n",
              "  }\n",
              "\n",
              "  [theme=dark] .colab-df-quickchart {\n",
              "      --bg-color: #3B4455;\n",
              "      --fill-color: #D2E3FC;\n",
              "      --hover-bg-color: #434B5C;\n",
              "      --hover-fill-color: #FFFFFF;\n",
              "      --disabled-bg-color: #3B4455;\n",
              "      --disabled-fill-color: #666;\n",
              "  }\n",
              "\n",
              "  .colab-df-quickchart {\n",
              "    background-color: var(--bg-color);\n",
              "    border: none;\n",
              "    border-radius: 50%;\n",
              "    cursor: pointer;\n",
              "    display: none;\n",
              "    fill: var(--fill-color);\n",
              "    height: 32px;\n",
              "    padding: 0;\n",
              "    width: 32px;\n",
              "  }\n",
              "\n",
              "  .colab-df-quickchart:hover {\n",
              "    background-color: var(--hover-bg-color);\n",
              "    box-shadow: 0 1px 2px rgba(60, 64, 67, 0.3), 0 1px 3px 1px rgba(60, 64, 67, 0.15);\n",
              "    fill: var(--button-hover-fill-color);\n",
              "  }\n",
              "\n",
              "  .colab-df-quickchart-complete:disabled,\n",
              "  .colab-df-quickchart-complete:disabled:hover {\n",
              "    background-color: var(--disabled-bg-color);\n",
              "    fill: var(--disabled-fill-color);\n",
              "    box-shadow: none;\n",
              "  }\n",
              "\n",
              "  .colab-df-spinner {\n",
              "    border: 2px solid var(--fill-color);\n",
              "    border-color: transparent;\n",
              "    border-bottom-color: var(--fill-color);\n",
              "    animation:\n",
              "      spin 1s steps(1) infinite;\n",
              "  }\n",
              "\n",
              "  @keyframes spin {\n",
              "    0% {\n",
              "      border-color: transparent;\n",
              "      border-bottom-color: var(--fill-color);\n",
              "      border-left-color: var(--fill-color);\n",
              "    }\n",
              "    20% {\n",
              "      border-color: transparent;\n",
              "      border-left-color: var(--fill-color);\n",
              "      border-top-color: var(--fill-color);\n",
              "    }\n",
              "    30% {\n",
              "      border-color: transparent;\n",
              "      border-left-color: var(--fill-color);\n",
              "      border-top-color: var(--fill-color);\n",
              "      border-right-color: var(--fill-color);\n",
              "    }\n",
              "    40% {\n",
              "      border-color: transparent;\n",
              "      border-right-color: var(--fill-color);\n",
              "      border-top-color: var(--fill-color);\n",
              "    }\n",
              "    60% {\n",
              "      border-color: transparent;\n",
              "      border-right-color: var(--fill-color);\n",
              "    }\n",
              "    80% {\n",
              "      border-color: transparent;\n",
              "      border-right-color: var(--fill-color);\n",
              "      border-bottom-color: var(--fill-color);\n",
              "    }\n",
              "    90% {\n",
              "      border-color: transparent;\n",
              "      border-bottom-color: var(--fill-color);\n",
              "    }\n",
              "  }\n",
              "</style>\n",
              "\n",
              "      <script>\n",
              "        async function quickchart(key) {\n",
              "          const quickchartButtonEl =\n",
              "            document.querySelector('#' + key + ' button');\n",
              "          quickchartButtonEl.disabled = true;  // To prevent multiple clicks.\n",
              "          quickchartButtonEl.classList.add('colab-df-spinner');\n",
              "          try {\n",
              "            const charts = await google.colab.kernel.invokeFunction(\n",
              "                'suggestCharts', [key], {});\n",
              "          } catch (error) {\n",
              "            console.error('Error during call to suggestCharts:', error);\n",
              "          }\n",
              "          quickchartButtonEl.classList.remove('colab-df-spinner');\n",
              "          quickchartButtonEl.classList.add('colab-df-quickchart-complete');\n",
              "        }\n",
              "        (() => {\n",
              "          let quickchartButtonEl =\n",
              "            document.querySelector('#df-d25cdbb6-d3b6-410e-8775-d24d22f9a0cb button');\n",
              "          quickchartButtonEl.style.display =\n",
              "            google.colab.kernel.accessAllowed ? 'block' : 'none';\n",
              "        })();\n",
              "      </script>\n",
              "    </div>\n",
              "\n",
              "    </div>\n",
              "  </div>\n"
            ],
            "application/vnd.google.colaboratory.intrinsic+json": {
              "type": "dataframe",
              "summary": "{\n  \"name\": \"df\",\n  \"rows\": 8,\n  \"fields\": [\n    {\n      \"column\": \"age\",\n      \"properties\": {\n        \"dtype\": \"number\",\n        \"std\": 460.6106090399993,\n        \"min\": 14.049960379216172,\n        \"max\": 1338.0,\n        \"num_unique_values\": 8,\n        \"samples\": [\n          39.20702541106129,\n          39.0,\n          1338.0\n        ],\n        \"semantic_type\": \"\",\n        \"description\": \"\"\n      }\n    },\n    {\n      \"column\": \"bmi\",\n      \"properties\": {\n        \"dtype\": \"number\",\n        \"std\": 463.29524977918294,\n        \"min\": 6.098186911679017,\n        \"max\": 1338.0,\n        \"num_unique_values\": 8,\n        \"samples\": [\n          30.66339686098655,\n          30.4,\n          1338.0\n        ],\n        \"semantic_type\": \"\",\n        \"description\": \"\"\n      }\n    },\n    {\n      \"column\": \"children\",\n      \"properties\": {\n        \"dtype\": \"number\",\n        \"std\": 472.5368318870757,\n        \"min\": 0.0,\n        \"max\": 1338.0,\n        \"num_unique_values\": 7,\n        \"samples\": [\n          1338.0,\n          1.0949177877429,\n          2.0\n        ],\n        \"semantic_type\": \"\",\n        \"description\": \"\"\n      }\n    },\n    {\n      \"column\": \"charges\",\n      \"properties\": {\n        \"dtype\": \"number\",\n        \"std\": 20381.922846226596,\n        \"min\": 1121.8739,\n        \"max\": 63770.42801,\n        \"num_unique_values\": 8,\n        \"samples\": [\n          13270.422265141257,\n          9382.033,\n          1338.0\n        ],\n        \"semantic_type\": \"\",\n        \"description\": \"\"\n      }\n    }\n  ]\n}"
            }
          },
          "metadata": {},
          "execution_count": 10
        }
      ]
    },
    {
      "cell_type": "markdown",
      "source": [
        "Desta tabela já podemos tirar alguns insights sobre os segurados:\n",
        "\n",
        "> Não temos crianças no plano de saúde, a idade minima é 18 anos e a máxima 64.\n",
        "\n",
        "> o BMI é o IMC, Indice de Massa Corporal, a média esta alta, de acordo com a OMS - Organização Mundial da Saúde, um indice acima de 30 pode ser considerado obesidade de Grau 1."
      ],
      "metadata": {
        "id": "Hy0MIFgfDGQ2"
      }
    },
    {
      "cell_type": "code",
      "source": [
        "# Estatisticas não categoricas\n",
        "df.describe(include='object')"
      ],
      "metadata": {
        "colab": {
          "base_uri": "https://localhost:8080/",
          "height": 175
        },
        "id": "VLU6PSKkrMhM",
        "outputId": "1e121a85-d6cc-4f6d-dca3-f50ae6a9fb46"
      },
      "execution_count": null,
      "outputs": [
        {
          "output_type": "execute_result",
          "data": {
            "text/plain": [
              "         sex smoker     region\n",
              "count   1338   1338       1338\n",
              "unique     2      2          4\n",
              "top     male     no  southeast\n",
              "freq     676   1064        364"
            ],
            "text/html": [
              "\n",
              "  <div id=\"df-1bc6e16c-f62d-467f-9285-5dc4b7cae704\" class=\"colab-df-container\">\n",
              "    <div>\n",
              "<style scoped>\n",
              "    .dataframe tbody tr th:only-of-type {\n",
              "        vertical-align: middle;\n",
              "    }\n",
              "\n",
              "    .dataframe tbody tr th {\n",
              "        vertical-align: top;\n",
              "    }\n",
              "\n",
              "    .dataframe thead th {\n",
              "        text-align: right;\n",
              "    }\n",
              "</style>\n",
              "<table border=\"1\" class=\"dataframe\">\n",
              "  <thead>\n",
              "    <tr style=\"text-align: right;\">\n",
              "      <th></th>\n",
              "      <th>sex</th>\n",
              "      <th>smoker</th>\n",
              "      <th>region</th>\n",
              "    </tr>\n",
              "  </thead>\n",
              "  <tbody>\n",
              "    <tr>\n",
              "      <th>count</th>\n",
              "      <td>1338</td>\n",
              "      <td>1338</td>\n",
              "      <td>1338</td>\n",
              "    </tr>\n",
              "    <tr>\n",
              "      <th>unique</th>\n",
              "      <td>2</td>\n",
              "      <td>2</td>\n",
              "      <td>4</td>\n",
              "    </tr>\n",
              "    <tr>\n",
              "      <th>top</th>\n",
              "      <td>male</td>\n",
              "      <td>no</td>\n",
              "      <td>southeast</td>\n",
              "    </tr>\n",
              "    <tr>\n",
              "      <th>freq</th>\n",
              "      <td>676</td>\n",
              "      <td>1064</td>\n",
              "      <td>364</td>\n",
              "    </tr>\n",
              "  </tbody>\n",
              "</table>\n",
              "</div>\n",
              "    <div class=\"colab-df-buttons\">\n",
              "\n",
              "  <div class=\"colab-df-container\">\n",
              "    <button class=\"colab-df-convert\" onclick=\"convertToInteractive('df-1bc6e16c-f62d-467f-9285-5dc4b7cae704')\"\n",
              "            title=\"Convert this dataframe to an interactive table.\"\n",
              "            style=\"display:none;\">\n",
              "\n",
              "  <svg xmlns=\"http://www.w3.org/2000/svg\" height=\"24px\" viewBox=\"0 -960 960 960\">\n",
              "    <path d=\"M120-120v-720h720v720H120Zm60-500h600v-160H180v160Zm220 220h160v-160H400v160Zm0 220h160v-160H400v160ZM180-400h160v-160H180v160Zm440 0h160v-160H620v160ZM180-180h160v-160H180v160Zm440 0h160v-160H620v160Z\"/>\n",
              "  </svg>\n",
              "    </button>\n",
              "\n",
              "  <style>\n",
              "    .colab-df-container {\n",
              "      display:flex;\n",
              "      gap: 12px;\n",
              "    }\n",
              "\n",
              "    .colab-df-convert {\n",
              "      background-color: #E8F0FE;\n",
              "      border: none;\n",
              "      border-radius: 50%;\n",
              "      cursor: pointer;\n",
              "      display: none;\n",
              "      fill: #1967D2;\n",
              "      height: 32px;\n",
              "      padding: 0 0 0 0;\n",
              "      width: 32px;\n",
              "    }\n",
              "\n",
              "    .colab-df-convert:hover {\n",
              "      background-color: #E2EBFA;\n",
              "      box-shadow: 0px 1px 2px rgba(60, 64, 67, 0.3), 0px 1px 3px 1px rgba(60, 64, 67, 0.15);\n",
              "      fill: #174EA6;\n",
              "    }\n",
              "\n",
              "    .colab-df-buttons div {\n",
              "      margin-bottom: 4px;\n",
              "    }\n",
              "\n",
              "    [theme=dark] .colab-df-convert {\n",
              "      background-color: #3B4455;\n",
              "      fill: #D2E3FC;\n",
              "    }\n",
              "\n",
              "    [theme=dark] .colab-df-convert:hover {\n",
              "      background-color: #434B5C;\n",
              "      box-shadow: 0px 1px 3px 1px rgba(0, 0, 0, 0.15);\n",
              "      filter: drop-shadow(0px 1px 2px rgba(0, 0, 0, 0.3));\n",
              "      fill: #FFFFFF;\n",
              "    }\n",
              "  </style>\n",
              "\n",
              "    <script>\n",
              "      const buttonEl =\n",
              "        document.querySelector('#df-1bc6e16c-f62d-467f-9285-5dc4b7cae704 button.colab-df-convert');\n",
              "      buttonEl.style.display =\n",
              "        google.colab.kernel.accessAllowed ? 'block' : 'none';\n",
              "\n",
              "      async function convertToInteractive(key) {\n",
              "        const element = document.querySelector('#df-1bc6e16c-f62d-467f-9285-5dc4b7cae704');\n",
              "        const dataTable =\n",
              "          await google.colab.kernel.invokeFunction('convertToInteractive',\n",
              "                                                    [key], {});\n",
              "        if (!dataTable) return;\n",
              "\n",
              "        const docLinkHtml = 'Like what you see? Visit the ' +\n",
              "          '<a target=\"_blank\" href=https://colab.research.google.com/notebooks/data_table.ipynb>data table notebook</a>'\n",
              "          + ' to learn more about interactive tables.';\n",
              "        element.innerHTML = '';\n",
              "        dataTable['output_type'] = 'display_data';\n",
              "        await google.colab.output.renderOutput(dataTable, element);\n",
              "        const docLink = document.createElement('div');\n",
              "        docLink.innerHTML = docLinkHtml;\n",
              "        element.appendChild(docLink);\n",
              "      }\n",
              "    </script>\n",
              "  </div>\n",
              "\n",
              "\n",
              "    <div id=\"df-8448a3fb-b023-4ab8-a4b7-d06b9c3e5eb6\">\n",
              "      <button class=\"colab-df-quickchart\" onclick=\"quickchart('df-8448a3fb-b023-4ab8-a4b7-d06b9c3e5eb6')\"\n",
              "                title=\"Suggest charts\"\n",
              "                style=\"display:none;\">\n",
              "\n",
              "<svg xmlns=\"http://www.w3.org/2000/svg\" height=\"24px\"viewBox=\"0 0 24 24\"\n",
              "     width=\"24px\">\n",
              "    <g>\n",
              "        <path d=\"M19 3H5c-1.1 0-2 .9-2 2v14c0 1.1.9 2 2 2h14c1.1 0 2-.9 2-2V5c0-1.1-.9-2-2-2zM9 17H7v-7h2v7zm4 0h-2V7h2v10zm4 0h-2v-4h2v4z\"/>\n",
              "    </g>\n",
              "</svg>\n",
              "      </button>\n",
              "\n",
              "<style>\n",
              "  .colab-df-quickchart {\n",
              "      --bg-color: #E8F0FE;\n",
              "      --fill-color: #1967D2;\n",
              "      --hover-bg-color: #E2EBFA;\n",
              "      --hover-fill-color: #174EA6;\n",
              "      --disabled-fill-color: #AAA;\n",
              "      --disabled-bg-color: #DDD;\n",
              "  }\n",
              "\n",
              "  [theme=dark] .colab-df-quickchart {\n",
              "      --bg-color: #3B4455;\n",
              "      --fill-color: #D2E3FC;\n",
              "      --hover-bg-color: #434B5C;\n",
              "      --hover-fill-color: #FFFFFF;\n",
              "      --disabled-bg-color: #3B4455;\n",
              "      --disabled-fill-color: #666;\n",
              "  }\n",
              "\n",
              "  .colab-df-quickchart {\n",
              "    background-color: var(--bg-color);\n",
              "    border: none;\n",
              "    border-radius: 50%;\n",
              "    cursor: pointer;\n",
              "    display: none;\n",
              "    fill: var(--fill-color);\n",
              "    height: 32px;\n",
              "    padding: 0;\n",
              "    width: 32px;\n",
              "  }\n",
              "\n",
              "  .colab-df-quickchart:hover {\n",
              "    background-color: var(--hover-bg-color);\n",
              "    box-shadow: 0 1px 2px rgba(60, 64, 67, 0.3), 0 1px 3px 1px rgba(60, 64, 67, 0.15);\n",
              "    fill: var(--button-hover-fill-color);\n",
              "  }\n",
              "\n",
              "  .colab-df-quickchart-complete:disabled,\n",
              "  .colab-df-quickchart-complete:disabled:hover {\n",
              "    background-color: var(--disabled-bg-color);\n",
              "    fill: var(--disabled-fill-color);\n",
              "    box-shadow: none;\n",
              "  }\n",
              "\n",
              "  .colab-df-spinner {\n",
              "    border: 2px solid var(--fill-color);\n",
              "    border-color: transparent;\n",
              "    border-bottom-color: var(--fill-color);\n",
              "    animation:\n",
              "      spin 1s steps(1) infinite;\n",
              "  }\n",
              "\n",
              "  @keyframes spin {\n",
              "    0% {\n",
              "      border-color: transparent;\n",
              "      border-bottom-color: var(--fill-color);\n",
              "      border-left-color: var(--fill-color);\n",
              "    }\n",
              "    20% {\n",
              "      border-color: transparent;\n",
              "      border-left-color: var(--fill-color);\n",
              "      border-top-color: var(--fill-color);\n",
              "    }\n",
              "    30% {\n",
              "      border-color: transparent;\n",
              "      border-left-color: var(--fill-color);\n",
              "      border-top-color: var(--fill-color);\n",
              "      border-right-color: var(--fill-color);\n",
              "    }\n",
              "    40% {\n",
              "      border-color: transparent;\n",
              "      border-right-color: var(--fill-color);\n",
              "      border-top-color: var(--fill-color);\n",
              "    }\n",
              "    60% {\n",
              "      border-color: transparent;\n",
              "      border-right-color: var(--fill-color);\n",
              "    }\n",
              "    80% {\n",
              "      border-color: transparent;\n",
              "      border-right-color: var(--fill-color);\n",
              "      border-bottom-color: var(--fill-color);\n",
              "    }\n",
              "    90% {\n",
              "      border-color: transparent;\n",
              "      border-bottom-color: var(--fill-color);\n",
              "    }\n",
              "  }\n",
              "</style>\n",
              "\n",
              "      <script>\n",
              "        async function quickchart(key) {\n",
              "          const quickchartButtonEl =\n",
              "            document.querySelector('#' + key + ' button');\n",
              "          quickchartButtonEl.disabled = true;  // To prevent multiple clicks.\n",
              "          quickchartButtonEl.classList.add('colab-df-spinner');\n",
              "          try {\n",
              "            const charts = await google.colab.kernel.invokeFunction(\n",
              "                'suggestCharts', [key], {});\n",
              "          } catch (error) {\n",
              "            console.error('Error during call to suggestCharts:', error);\n",
              "          }\n",
              "          quickchartButtonEl.classList.remove('colab-df-spinner');\n",
              "          quickchartButtonEl.classList.add('colab-df-quickchart-complete');\n",
              "        }\n",
              "        (() => {\n",
              "          let quickchartButtonEl =\n",
              "            document.querySelector('#df-8448a3fb-b023-4ab8-a4b7-d06b9c3e5eb6 button');\n",
              "          quickchartButtonEl.style.display =\n",
              "            google.colab.kernel.accessAllowed ? 'block' : 'none';\n",
              "        })();\n",
              "      </script>\n",
              "    </div>\n",
              "\n",
              "    </div>\n",
              "  </div>\n"
            ],
            "application/vnd.google.colaboratory.intrinsic+json": {
              "type": "dataframe",
              "summary": "{\n  \"name\": \"df\",\n  \"rows\": 4,\n  \"fields\": [\n    {\n      \"column\": \"sex\",\n      \"properties\": {\n        \"dtype\": \"string\",\n        \"num_unique_values\": 4,\n        \"samples\": [\n          2,\n          \"676\",\n          \"1338\"\n        ],\n        \"semantic_type\": \"\",\n        \"description\": \"\"\n      }\n    },\n    {\n      \"column\": \"smoker\",\n      \"properties\": {\n        \"dtype\": \"string\",\n        \"num_unique_values\": 4,\n        \"samples\": [\n          2,\n          \"1064\",\n          \"1338\"\n        ],\n        \"semantic_type\": \"\",\n        \"description\": \"\"\n      }\n    },\n    {\n      \"column\": \"region\",\n      \"properties\": {\n        \"dtype\": \"string\",\n        \"num_unique_values\": 4,\n        \"samples\": [\n          4,\n          \"364\",\n          \"1338\"\n        ],\n        \"semantic_type\": \"\",\n        \"description\": \"\"\n      }\n    }\n  ]\n}"
            }
          },
          "metadata": {},
          "execution_count": 9
        }
      ]
    },
    {
      "cell_type": "markdown",
      "source": [
        "> Informações relevantes são mostradas aqui, e veremos mais detalhadamente a seguir a divisão de sexo parece estar bem equilibrado e a quantidade de fumantes é menor que não fumantes, vale observar também que a região com maior números de segurado é Southeast"
      ],
      "metadata": {
        "id": "KTBar3CeEiB2"
      }
    },
    {
      "cell_type": "markdown",
      "source": [
        "## Análise"
      ],
      "metadata": {
        "id": "eL6vD2h3y2-X"
      }
    },
    {
      "cell_type": "code",
      "source": [
        "import matplotlib.pyplot as plt # Biblioteca necessária para utilizadas nos gráficos"
      ],
      "metadata": {
        "id": "WyB8Q61nzDt_"
      },
      "execution_count": 52,
      "outputs": []
    },
    {
      "cell_type": "markdown",
      "source": [
        "Divisão por Sexo:"
      ],
      "metadata": {
        "id": "OI_SaOepFEkO"
      }
    },
    {
      "cell_type": "code",
      "source": [
        "# Agrupar dados\n",
        "sexo_porcentagem = df['sex'].value_counts(normalize=True) * 100\n",
        "# Renomeia\n",
        "sexo_porcentagem.index = sexo_porcentagem.index.map({'female': 'Feminino', 'male': 'Masculino'})\n",
        "\n",
        "# Cria o gráfico\n",
        "plt.figure(figsize=(10,6))\n",
        "plt.pie(sexo_porcentagem, labels=sexo_porcentagem.index, autopct='%1.1f%%')\n",
        "plt.title('Distribuição de Sexo')\n",
        "plt.show()"
      ],
      "metadata": {
        "colab": {
          "base_uri": "https://localhost:8080/",
          "height": 521
        },
        "id": "M8Fa4-KdFE5G",
        "outputId": "fd7779ac-f967-43cc-f366-949c97205f2e"
      },
      "execution_count": 105,
      "outputs": [
        {
          "output_type": "display_data",
          "data": {
            "text/plain": [
              "<Figure size 1000x600 with 1 Axes>"
            ],
            "image/png": "[encoded data removed]"
          },
          "metadata": {}
        }
      ]
    },
    {
      "cell_type": "markdown",
      "source": [
        "> Diferença muito pequena entre Homens e Mulheres, sexo masculino tem apenas 1% a mais"
      ],
      "metadata": {
        "id": "04sQr_m7FluQ"
      }
    },
    {
      "cell_type": "markdown",
      "source": [
        "### Verificando distribuição de idade pelo grupo segurado"
      ],
      "metadata": {
        "id": "z_LuR62OzTz0"
      }
    },
    {
      "cell_type": "code",
      "source": [
        "# import matplotlib.pyplot as plt\n",
        "\n",
        "# Agrupar dados\n",
        "distribuicao_idade = df['age'].value_counts().sort_index()\n",
        "\n",
        "#cria o gráfico\n",
        "plt.figure(figsize=(6,2))\n",
        "plt.scatter(distribuicao_idade.index, distribuicao_idade.values)\n",
        "plt.xlabel('Idade')\n",
        "plt.ylabel('Quantidade')\n",
        "plt.title('Distribuição de Idade e Segurados')"
      ],
      "metadata": {
        "id": "BxsEZUWlzJX-",
        "outputId": "154cf8ae-36cc-46cd-cd62-d58ddf95c052",
        "colab": {
          "base_uri": "https://localhost:8080/",
          "height": 274
        }
      },
      "execution_count": 101,
      "outputs": [
        {
          "output_type": "execute_result",
          "data": {
            "text/plain": [
              "Text(0.5, 1.0, 'Distribuição de Idade e Segurados')"
            ]
          },
          "metadata": {},
          "execution_count": 101
        },
        {
          "output_type": "display_data",
          "data": {
            "text/plain": [
              "<Figure size 600x200 with 1 Axes>"
            ],
            "image/png": "[encoded data removed]"
          },
          "metadata": {}
        }
      ]
    },
    {
      "cell_type": "markdown",
      "source": [
        "> Temos uma divisão quase regular por idade, se destacando os mais jovens na idade de 18 e 19 anos"
      ],
      "metadata": {
        "id": "UwNEWvq3FzBw"
      }
    },
    {
      "cell_type": "markdown",
      "source": [
        "### Calculando custo médio por idade"
      ],
      "metadata": {
        "id": "8yw8Q7kIy5b0"
      }
    },
    {
      "cell_type": "code",
      "source": [
        "# import matplotlib.pyplot as plt\n",
        "\n",
        "# Agrupar dados\n",
        "idade_custo_medio = df.groupby('age')['charges'].mean()\n",
        "\n",
        "# Cria o gráfico\n",
        "plt.figure(figsize=(12,6))\n",
        "barras = plt.bar(idade_custo_medio.index, idade_custo_medio.values)\n",
        "plt.xlabel('Idade')\n",
        "plt.ylabel('Custo Médio')\n",
        "plt.title('Distribuição de Idade x Custo Médio')\n",
        "plt.show()"
      ],
      "metadata": {
        "id": "ptdwbrS_wk_v",
        "outputId": "ae0f372d-60a0-4097-84f0-9409fc79097c",
        "colab": {
          "base_uri": "https://localhost:8080/",
          "height": 565
        }
      },
      "execution_count": 102,
      "outputs": [
        {
          "output_type": "display_data",
          "data": {
            "text/plain": [
              "<Figure size 1200x600 with 1 Axes>"
            ],
            "image/png": "[encoded data removed]"
          },
          "metadata": {}
        }
      ]
    },
    {
      "cell_type": "markdown",
      "source": [
        "> Como é de se supor, segurado com maior idade tende de ter média de gastos maior."
      ],
      "metadata": {
        "id": "O8BpF4hMGGCU"
      }
    },
    {
      "cell_type": "markdown",
      "source": [
        "### Distribuição de fumantes e não fumantes"
      ],
      "metadata": {
        "id": "6Zgy8jY92DNy"
      }
    },
    {
      "cell_type": "code",
      "source": [
        "# import matplotlib.pyplot as plt\n",
        "\n",
        "# Agrpando dados\n",
        "fumantes_porcentagem = df['smoker'].value_counts(normalize=True) * 100\n",
        "# Renomeando indice\n",
        "fumantes_porcentagem.index = fumantes_porcentagem.index.map({'no': 'Não fumante', 'yes': 'Fumante'})\n",
        "# Cria o gráfico\n",
        "plt.figure(figsize=(10,6))\n",
        "plt.pie(fumantes_porcentagem, labels=fumantes_porcentagem.index, autopct='%1.1f%%')\n",
        "plt.title('Distribuição de Fumantes')\n",
        "plt.show()"
      ],
      "metadata": {
        "colab": {
          "base_uri": "https://localhost:8080/",
          "height": 521
        },
        "id": "fvhtfZs_2PVx",
        "outputId": "1d3098de-91bb-419e-a406-4cc5a4c029b7"
      },
      "execution_count": 100,
      "outputs": [
        {
          "output_type": "display_data",
          "data": {
            "text/plain": [
              "<Figure size 1000x600 with 1 Axes>"
            ],
            "image/png": "[encoded data removed]"
          },
          "metadata": {}
        }
      ]
    },
    {
      "cell_type": "markdown",
      "source": [
        "> Grupo de fumantes é de 20.5% da carteira de segurados"
      ],
      "metadata": {
        "id": "rjsDCkJ6GV6M"
      }
    },
    {
      "cell_type": "markdown",
      "source": [
        "### Custo médio por fumantes x não fumantes"
      ],
      "metadata": {
        "id": "Affo94LJ2dmc"
      }
    },
    {
      "cell_type": "code",
      "source": [
        "# import matplotlib.pyplot as plt\n",
        "\n",
        "# Agrupar dados\n",
        "custo_medio_fumantes_nao_fumantes = df.groupby('smoker')['charges'].mean()\n",
        "# Renomeando indice\n",
        "custo_medio_fumantes_nao_fumantes.index = custo_medio_fumantes_nao_fumantes.index.map({'no': 'Não fumante', 'yes': 'Fumante'})\n",
        "\n",
        "# Cria o gráfico\n",
        "plt.figure(figsize=(12,4))\n",
        "barras = plt.barh(custo_medio_fumantes_nao_fumantes.index, custo_medio_fumantes_nao_fumantes.values)\n",
        "plt.bar_label(barras,\n",
        "              labels=[f'${x:,.2f}' for x in custo_medio_fumantes_nao_fumantes.values], # formatacao de milhar no rotulo\n",
        "              fontsize=15,\n",
        "              padding=-100, # valor negativo para jogar para dentro da barra\n",
        "              color='white')\n",
        "plt.title('Custo Médio por Fumante e Não Fumante')\n",
        "plt.tight_layout()\n",
        "plt.show()\n"
      ],
      "metadata": {
        "colab": {
          "base_uri": "https://localhost:8080/",
          "height": 407
        },
        "id": "jFMJeqfU2vqU",
        "outputId": "7e12d8b3-1e7b-49a8-ac8e-50fa181f47a6"
      },
      "execution_count": 98,
      "outputs": [
        {
          "output_type": "display_data",
          "data": {
            "text/plain": [
              "<Figure size 1200x400 with 1 Axes>"
            ],
            "image/png": "[encoded data removed]"
          },
          "metadata": {}
        }
      ]
    },
    {
      "cell_type": "markdown",
      "source": [
        "> Apesar de compor aproximadamente um quinto dos segurados, fumantes tem o custo médio quase 4x maior que segurados não fumantes."
      ],
      "metadata": {
        "id": "V3x8hJnQGgQ1"
      }
    },
    {
      "cell_type": "markdown",
      "source": [
        "### Segurados por BMI (IMC)"
      ],
      "metadata": {
        "id": "LqHzZ-7YHr6V"
      }
    },
    {
      "cell_type": "markdown",
      "source": [
        "![image.png](data:image/png;base64,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)"
      ],
      "metadata": {
        "id": "y8xSRXcnH6YD"
      }
    },
    {
      "cell_type": "code",
      "source": [
        "import matplotlib.pyplot as plt\n",
        "\n",
        "# Agrupar dados\n",
        "\n",
        "obesidade_3 = []\n",
        "obesidade_2 = []\n",
        "obesidade_1 = []\n",
        "sobrepeso = []\n",
        "normal = []\n",
        "baixo_peso = []\n",
        "\n",
        "\n",
        "for index, row in df.iterrows():\n",
        "  if row['bmi'] >= 40:\n",
        "    obesidade_3.append(row['bmi'])\n",
        "  elif row['bmi'] >= 35:\n",
        "    obesidade_2.append(row['bmi'])\n",
        "  elif row['bmi'] >= 30:\n",
        "    obesidade_1.append(row['bmi'])\n",
        "  elif row['bmi'] >= 25:\n",
        "      sobrepeso.append(row['bmi'])\n",
        "  elif row['bmi'] >= 18.5:\n",
        "    normal.append(row['bmi'])\n",
        "  else:\n",
        "    baixo_peso.append(row['bmi'])\n",
        "\n",
        "print(f\"Obesidade Grau 3+: {len(obesidade_3)}\")\n",
        "print(f\"Obesidade Grau 2: {len(obesidade_2)}\")\n",
        "print(f\"Obesidade Grau 1: {len(obesidade_1)}\")\n",
        "print(f\"Sobrepeso: {len(sobrepeso)}\")\n",
        "print(f\"Normal: {len(normal)}\")\n",
        "print(f\"Baixo Peso: {len(baixo_peso)}\")"
      ],
      "metadata": {
        "colab": {
          "base_uri": "https://localhost:8080/"
        },
        "id": "Mp4cv5ITHJVT",
        "outputId": "eec50364-3ff9-44aa-b0ef-0d33a96e46db"
      },
      "execution_count": 108,
      "outputs": [
        {
          "output_type": "stream",
          "name": "stdout",
          "text": [
            "Obesidade Grau 3+: 91\n",
            "Obesidade Grau 2: 225\n",
            "Obesidade Grau 1: 391\n",
            "Sobrepeso: 386\n",
            "Normal: 225\n",
            "Baixo Peso: 20\n"
          ]
        }
      ]
    }
  ]
}